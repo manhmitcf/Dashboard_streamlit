{
 "cells": [
  {
   "cell_type": "code",
   "execution_count": 2,
   "metadata": {},
   "outputs": [
    {
     "name": "stderr",
     "output_type": "stream",
     "text": [
      "c:\\Users\\manhm\\anaconda3\\Lib\\site-packages\\pandas\\core\\arrays\\masked.py:60: UserWarning: Pandas requires version '1.3.6' or newer of 'bottleneck' (version '1.3.5' currently installed).\n",
      "  from pandas.core import (\n"
     ]
    }
   ],
   "source": [
    "import pandas as pd\n",
    "import numpy as np\n",
    "import matplotlib.pyplot as plt\n",
    "import seaborn as sns\n",
    "\n",
    "import warnings\n",
    "warnings.filterwarnings(\"ignore\")\n",
    "\n",
    "import datetime as dt"
   ]
  },
  {
   "cell_type": "code",
   "execution_count": 3,
   "metadata": {},
   "outputs": [],
   "source": [
    "customers_df= pd.read_csv('olist_customers_dataset.csv')\n",
    "geolocation_df= pd.read_csv(\"olist_geolocation_dataset.csv\")\n",
    "items_df= pd.read_csv('olist_order_items_dataset.csv')\n",
    "payments_df= pd.read_csv('olist_order_payments_dataset.csv')\n",
    "reviews_df= pd.read_csv('olist_order_reviews_dataset.csv')\n",
    "orders_df= pd.read_csv('olist_orders_dataset.csv')\n",
    "products_df= pd.read_csv('olist_products_dataset.csv')\n",
    "sellers_df= pd.read_csv('olist_sellers_dataset.csv')\n",
    "category_translation_df= pd.read_csv('product_category_name_translation.csv')\n"
   ]
  },
  {
   "cell_type": "code",
   "execution_count": 50,
   "metadata": {},
   "outputs": [
    {
     "name": "stdout",
     "output_type": "stream",
     "text": [
      "Số lượng khách hàng duy nhất: 96096\n"
     ]
    }
   ],
   "source": [
    "unique_customers = customers_df['customer_unique_id'].nunique()\n",
    "print(f\"Số lượng khách hàng duy nhất: {unique_customers}\")"
   ]
  },
  {
   "cell_type": "code",
   "execution_count": 4,
   "metadata": {},
   "outputs": [],
   "source": [
    "list_df = [customers_df, geolocation_df,items_df,payments_df, reviews_df,orders_df, products_df, sellers_df, category_translation_df]"
   ]
  },
  {
   "cell_type": "code",
   "execution_count": 5,
   "metadata": {},
   "outputs": [
    {
     "name": "stdout",
     "output_type": "stream",
     "text": [
      "<class 'pandas.core.frame.DataFrame'>\n",
      "RangeIndex: 99441 entries, 0 to 99440\n",
      "Data columns (total 5 columns):\n",
      " #   Column                    Non-Null Count  Dtype \n",
      "---  ------                    --------------  ----- \n",
      " 0   customer_id               99441 non-null  object\n",
      " 1   customer_unique_id        99441 non-null  object\n",
      " 2   customer_zip_code_prefix  99441 non-null  int64 \n",
      " 3   customer_city             99441 non-null  object\n",
      " 4   customer_state            99441 non-null  object\n",
      "dtypes: int64(1), object(4)\n",
      "memory usage: 3.8+ MB\n",
      "<class 'pandas.core.frame.DataFrame'>\n",
      "RangeIndex: 1000163 entries, 0 to 1000162\n",
      "Data columns (total 5 columns):\n",
      " #   Column                       Non-Null Count    Dtype  \n",
      "---  ------                       --------------    -----  \n",
      " 0   geolocation_zip_code_prefix  1000163 non-null  int64  \n",
      " 1   geolocation_lat              1000163 non-null  float64\n",
      " 2   geolocation_lng              1000163 non-null  float64\n",
      " 3   geolocation_city             1000163 non-null  object \n",
      " 4   geolocation_state            1000163 non-null  object \n",
      "dtypes: float64(2), int64(1), object(2)\n",
      "memory usage: 38.2+ MB\n",
      "<class 'pandas.core.frame.DataFrame'>\n",
      "RangeIndex: 112650 entries, 0 to 112649\n",
      "Data columns (total 7 columns):\n",
      " #   Column               Non-Null Count   Dtype  \n",
      "---  ------               --------------   -----  \n",
      " 0   order_id             112650 non-null  object \n",
      " 1   order_item_id        112650 non-null  int64  \n",
      " 2   product_id           112650 non-null  object \n",
      " 3   seller_id            112650 non-null  object \n",
      " 4   shipping_limit_date  112650 non-null  object \n",
      " 5   price                112650 non-null  float64\n",
      " 6   freight_value        112650 non-null  float64\n",
      "dtypes: float64(2), int64(1), object(4)\n",
      "memory usage: 6.0+ MB\n",
      "<class 'pandas.core.frame.DataFrame'>\n",
      "RangeIndex: 103886 entries, 0 to 103885\n",
      "Data columns (total 5 columns):\n",
      " #   Column                Non-Null Count   Dtype  \n",
      "---  ------                --------------   -----  \n",
      " 0   order_id              103886 non-null  object \n",
      " 1   payment_sequential    103886 non-null  int64  \n",
      " 2   payment_type          103886 non-null  object \n",
      " 3   payment_installments  103886 non-null  int64  \n",
      " 4   payment_value         103886 non-null  float64\n",
      "dtypes: float64(1), int64(2), object(2)\n",
      "memory usage: 4.0+ MB\n",
      "<class 'pandas.core.frame.DataFrame'>\n",
      "RangeIndex: 99224 entries, 0 to 99223\n",
      "Data columns (total 7 columns):\n",
      " #   Column                   Non-Null Count  Dtype \n",
      "---  ------                   --------------  ----- \n",
      " 0   review_id                99224 non-null  object\n",
      " 1   order_id                 99224 non-null  object\n",
      " 2   review_score             99224 non-null  int64 \n",
      " 3   review_comment_title     11568 non-null  object\n",
      " 4   review_comment_message   40977 non-null  object\n",
      " 5   review_creation_date     99224 non-null  object\n",
      " 6   review_answer_timestamp  99224 non-null  object\n",
      "dtypes: int64(1), object(6)\n",
      "memory usage: 5.3+ MB\n",
      "<class 'pandas.core.frame.DataFrame'>\n",
      "RangeIndex: 99441 entries, 0 to 99440\n",
      "Data columns (total 8 columns):\n",
      " #   Column                         Non-Null Count  Dtype \n",
      "---  ------                         --------------  ----- \n",
      " 0   order_id                       99441 non-null  object\n",
      " 1   customer_id                    99441 non-null  object\n",
      " 2   order_status                   99441 non-null  object\n",
      " 3   order_purchase_timestamp       99441 non-null  object\n",
      " 4   order_approved_at              99281 non-null  object\n",
      " 5   order_delivered_carrier_date   97658 non-null  object\n",
      " 6   order_delivered_customer_date  96476 non-null  object\n",
      " 7   order_estimated_delivery_date  99441 non-null  object\n",
      "dtypes: object(8)\n",
      "memory usage: 6.1+ MB\n",
      "<class 'pandas.core.frame.DataFrame'>\n",
      "RangeIndex: 32951 entries, 0 to 32950\n",
      "Data columns (total 9 columns):\n",
      " #   Column                      Non-Null Count  Dtype  \n",
      "---  ------                      --------------  -----  \n",
      " 0   product_id                  32951 non-null  object \n",
      " 1   product_category_name       32341 non-null  object \n",
      " 2   product_name_lenght         32341 non-null  float64\n",
      " 3   product_description_lenght  32341 non-null  float64\n",
      " 4   product_photos_qty          32341 non-null  float64\n",
      " 5   product_weight_g            32949 non-null  float64\n",
      " 6   product_length_cm           32949 non-null  float64\n",
      " 7   product_height_cm           32949 non-null  float64\n",
      " 8   product_width_cm            32949 non-null  float64\n",
      "dtypes: float64(7), object(2)\n",
      "memory usage: 2.3+ MB\n",
      "<class 'pandas.core.frame.DataFrame'>\n",
      "RangeIndex: 3095 entries, 0 to 3094\n",
      "Data columns (total 4 columns):\n",
      " #   Column                  Non-Null Count  Dtype \n",
      "---  ------                  --------------  ----- \n",
      " 0   seller_id               3095 non-null   object\n",
      " 1   seller_zip_code_prefix  3095 non-null   int64 \n",
      " 2   seller_city             3095 non-null   object\n",
      " 3   seller_state            3095 non-null   object\n",
      "dtypes: int64(1), object(3)\n",
      "memory usage: 96.8+ KB\n",
      "<class 'pandas.core.frame.DataFrame'>\n",
      "RangeIndex: 71 entries, 0 to 70\n",
      "Data columns (total 2 columns):\n",
      " #   Column                         Non-Null Count  Dtype \n",
      "---  ------                         --------------  ----- \n",
      " 0   product_category_name          71 non-null     object\n",
      " 1   product_category_name_english  71 non-null     object\n",
      "dtypes: object(2)\n",
      "memory usage: 1.2+ KB\n"
     ]
    }
   ],
   "source": [
    "for df in list_df:\n",
    "    df.info()"
   ]
  },
  {
   "cell_type": "markdown",
   "metadata": {},
   "source": [
    "# Check null values and duplicate rows"
   ]
  },
  {
   "cell_type": "code",
   "execution_count": 6,
   "metadata": {},
   "outputs": [
    {
     "data": {
      "text/html": [
       "<style type=\"text/css\">\n",
       "#T_c48ab_row0_col2, #T_c48ab_row4_col2, #T_c48ab_row5_col2 {\n",
       "  background-color: #f1faba;\n",
       "  color: #000000;\n",
       "}\n",
       "#T_c48ab_row0_col3, #T_c48ab_row1_col3, #T_c48ab_row3_col3 {\n",
       "  background-color: #65c3bf;\n",
       "  color: #000000;\n",
       "}\n",
       "#T_c48ab_row0_col4, #T_c48ab_row0_col5, #T_c48ab_row1_col5, #T_c48ab_row2_col4, #T_c48ab_row2_col5, #T_c48ab_row3_col4, #T_c48ab_row3_col5, #T_c48ab_row4_col4, #T_c48ab_row5_col4, #T_c48ab_row6_col4, #T_c48ab_row7_col2, #T_c48ab_row7_col4, #T_c48ab_row7_col5, #T_c48ab_row8_col2, #T_c48ab_row8_col3, #T_c48ab_row8_col4, #T_c48ab_row8_col5 {\n",
       "  background-color: #ffffd9;\n",
       "  color: #000000;\n",
       "}\n",
       "#T_c48ab_row1_col2, #T_c48ab_row1_col4, #T_c48ab_row4_col5, #T_c48ab_row6_col3 {\n",
       "  background-color: #081d58;\n",
       "  color: #f1f1f1;\n",
       "}\n",
       "#T_c48ab_row2_col2 {\n",
       "  background-color: #eff9b6;\n",
       "  color: #000000;\n",
       "}\n",
       "#T_c48ab_row2_col3, #T_c48ab_row4_col3 {\n",
       "  background-color: #216daf;\n",
       "  color: #f1f1f1;\n",
       "}\n",
       "#T_c48ab_row3_col2 {\n",
       "  background-color: #f0f9b8;\n",
       "  color: #000000;\n",
       "}\n",
       "#T_c48ab_row5_col3 {\n",
       "  background-color: #253997;\n",
       "  color: #f1f1f1;\n",
       "}\n",
       "#T_c48ab_row5_col5, #T_c48ab_row6_col2 {\n",
       "  background-color: #fafdcf;\n",
       "  color: #000000;\n",
       "}\n",
       "#T_c48ab_row6_col5 {\n",
       "  background-color: #fdfed4;\n",
       "  color: #000000;\n",
       "}\n",
       "#T_c48ab_row7_col3 {\n",
       "  background-color: #b2e1b6;\n",
       "  color: #000000;\n",
       "}\n",
       "</style>\n",
       "<table id=\"T_c48ab\">\n",
       "  <thead>\n",
       "    <tr>\n",
       "      <th class=\"blank level0\" >&nbsp;</th>\n",
       "      <th id=\"T_c48ab_level0_col0\" class=\"col_heading level0 col0\" >datasets</th>\n",
       "      <th id=\"T_c48ab_level0_col1\" class=\"col_heading level0 col1\" >columns</th>\n",
       "      <th id=\"T_c48ab_level0_col2\" class=\"col_heading level0 col2\" >total_rows</th>\n",
       "      <th id=\"T_c48ab_level0_col3\" class=\"col_heading level0 col3\" >total_cols</th>\n",
       "      <th id=\"T_c48ab_level0_col4\" class=\"col_heading level0 col4\" >total_duplicate</th>\n",
       "      <th id=\"T_c48ab_level0_col5\" class=\"col_heading level0 col5\" >total_null</th>\n",
       "      <th id=\"T_c48ab_level0_col6\" class=\"col_heading level0 col6\" >null_cols</th>\n",
       "    </tr>\n",
       "  </thead>\n",
       "  <tbody>\n",
       "    <tr>\n",
       "      <th id=\"T_c48ab_level0_row0\" class=\"row_heading level0 row0\" >0</th>\n",
       "      <td id=\"T_c48ab_row0_col0\" class=\"data row0 col0\" >customers</td>\n",
       "      <td id=\"T_c48ab_row0_col1\" class=\"data row0 col1\" >customer_id, customer_unique_id, customer_zip_code_prefix, customer_city, customer_state</td>\n",
       "      <td id=\"T_c48ab_row0_col2\" class=\"data row0 col2\" >99441</td>\n",
       "      <td id=\"T_c48ab_row0_col3\" class=\"data row0 col3\" >5</td>\n",
       "      <td id=\"T_c48ab_row0_col4\" class=\"data row0 col4\" >0</td>\n",
       "      <td id=\"T_c48ab_row0_col5\" class=\"data row0 col5\" >0</td>\n",
       "      <td id=\"T_c48ab_row0_col6\" class=\"data row0 col6\" ></td>\n",
       "    </tr>\n",
       "    <tr>\n",
       "      <th id=\"T_c48ab_level0_row1\" class=\"row_heading level0 row1\" >1</th>\n",
       "      <td id=\"T_c48ab_row1_col0\" class=\"data row1 col0\" >geolocation</td>\n",
       "      <td id=\"T_c48ab_row1_col1\" class=\"data row1 col1\" >geolocation_zip_code_prefix, geolocation_lat, geolocation_lng, geolocation_city, geolocation_state</td>\n",
       "      <td id=\"T_c48ab_row1_col2\" class=\"data row1 col2\" >1000163</td>\n",
       "      <td id=\"T_c48ab_row1_col3\" class=\"data row1 col3\" >5</td>\n",
       "      <td id=\"T_c48ab_row1_col4\" class=\"data row1 col4\" >261831</td>\n",
       "      <td id=\"T_c48ab_row1_col5\" class=\"data row1 col5\" >0</td>\n",
       "      <td id=\"T_c48ab_row1_col6\" class=\"data row1 col6\" ></td>\n",
       "    </tr>\n",
       "    <tr>\n",
       "      <th id=\"T_c48ab_level0_row2\" class=\"row_heading level0 row2\" >2</th>\n",
       "      <td id=\"T_c48ab_row2_col0\" class=\"data row2 col0\" >items</td>\n",
       "      <td id=\"T_c48ab_row2_col1\" class=\"data row2 col1\" >order_id, order_item_id, product_id, seller_id, shipping_limit_date, price, freight_value</td>\n",
       "      <td id=\"T_c48ab_row2_col2\" class=\"data row2 col2\" >112650</td>\n",
       "      <td id=\"T_c48ab_row2_col3\" class=\"data row2 col3\" >7</td>\n",
       "      <td id=\"T_c48ab_row2_col4\" class=\"data row2 col4\" >0</td>\n",
       "      <td id=\"T_c48ab_row2_col5\" class=\"data row2 col5\" >0</td>\n",
       "      <td id=\"T_c48ab_row2_col6\" class=\"data row2 col6\" ></td>\n",
       "    </tr>\n",
       "    <tr>\n",
       "      <th id=\"T_c48ab_level0_row3\" class=\"row_heading level0 row3\" >3</th>\n",
       "      <td id=\"T_c48ab_row3_col0\" class=\"data row3 col0\" >payments</td>\n",
       "      <td id=\"T_c48ab_row3_col1\" class=\"data row3 col1\" >order_id, payment_sequential, payment_type, payment_installments, payment_value</td>\n",
       "      <td id=\"T_c48ab_row3_col2\" class=\"data row3 col2\" >103886</td>\n",
       "      <td id=\"T_c48ab_row3_col3\" class=\"data row3 col3\" >5</td>\n",
       "      <td id=\"T_c48ab_row3_col4\" class=\"data row3 col4\" >0</td>\n",
       "      <td id=\"T_c48ab_row3_col5\" class=\"data row3 col5\" >0</td>\n",
       "      <td id=\"T_c48ab_row3_col6\" class=\"data row3 col6\" ></td>\n",
       "    </tr>\n",
       "    <tr>\n",
       "      <th id=\"T_c48ab_level0_row4\" class=\"row_heading level0 row4\" >4</th>\n",
       "      <td id=\"T_c48ab_row4_col0\" class=\"data row4 col0\" >reviews</td>\n",
       "      <td id=\"T_c48ab_row4_col1\" class=\"data row4 col1\" >review_id, order_id, review_score, review_comment_title, review_comment_message, review_creation_date, review_answer_timestamp</td>\n",
       "      <td id=\"T_c48ab_row4_col2\" class=\"data row4 col2\" >99224</td>\n",
       "      <td id=\"T_c48ab_row4_col3\" class=\"data row4 col3\" >7</td>\n",
       "      <td id=\"T_c48ab_row4_col4\" class=\"data row4 col4\" >0</td>\n",
       "      <td id=\"T_c48ab_row4_col5\" class=\"data row4 col5\" >145903</td>\n",
       "      <td id=\"T_c48ab_row4_col6\" class=\"data row4 col6\" >review_comment_title, review_comment_message</td>\n",
       "    </tr>\n",
       "    <tr>\n",
       "      <th id=\"T_c48ab_level0_row5\" class=\"row_heading level0 row5\" >5</th>\n",
       "      <td id=\"T_c48ab_row5_col0\" class=\"data row5 col0\" >orders</td>\n",
       "      <td id=\"T_c48ab_row5_col1\" class=\"data row5 col1\" >order_id, customer_id, order_status, order_purchase_timestamp, order_approved_at, order_delivered_carrier_date, order_delivered_customer_date, order_estimated_delivery_date</td>\n",
       "      <td id=\"T_c48ab_row5_col2\" class=\"data row5 col2\" >99441</td>\n",
       "      <td id=\"T_c48ab_row5_col3\" class=\"data row5 col3\" >8</td>\n",
       "      <td id=\"T_c48ab_row5_col4\" class=\"data row5 col4\" >0</td>\n",
       "      <td id=\"T_c48ab_row5_col5\" class=\"data row5 col5\" >4908</td>\n",
       "      <td id=\"T_c48ab_row5_col6\" class=\"data row5 col6\" >order_approved_at, order_delivered_carrier_date, order_delivered_customer_date</td>\n",
       "    </tr>\n",
       "    <tr>\n",
       "      <th id=\"T_c48ab_level0_row6\" class=\"row_heading level0 row6\" >6</th>\n",
       "      <td id=\"T_c48ab_row6_col0\" class=\"data row6 col0\" >products</td>\n",
       "      <td id=\"T_c48ab_row6_col1\" class=\"data row6 col1\" >product_id, product_category_name, product_name_lenght, product_description_lenght, product_photos_qty, product_weight_g, product_length_cm, product_height_cm, product_width_cm</td>\n",
       "      <td id=\"T_c48ab_row6_col2\" class=\"data row6 col2\" >32951</td>\n",
       "      <td id=\"T_c48ab_row6_col3\" class=\"data row6 col3\" >9</td>\n",
       "      <td id=\"T_c48ab_row6_col4\" class=\"data row6 col4\" >0</td>\n",
       "      <td id=\"T_c48ab_row6_col5\" class=\"data row6 col5\" >2448</td>\n",
       "      <td id=\"T_c48ab_row6_col6\" class=\"data row6 col6\" >product_category_name, product_name_lenght, product_description_lenght, product_photos_qty, product_weight_g, product_length_cm, product_height_cm, product_width_cm</td>\n",
       "    </tr>\n",
       "    <tr>\n",
       "      <th id=\"T_c48ab_level0_row7\" class=\"row_heading level0 row7\" >7</th>\n",
       "      <td id=\"T_c48ab_row7_col0\" class=\"data row7 col0\" >sellers</td>\n",
       "      <td id=\"T_c48ab_row7_col1\" class=\"data row7 col1\" >seller_id, seller_zip_code_prefix, seller_city, seller_state</td>\n",
       "      <td id=\"T_c48ab_row7_col2\" class=\"data row7 col2\" >3095</td>\n",
       "      <td id=\"T_c48ab_row7_col3\" class=\"data row7 col3\" >4</td>\n",
       "      <td id=\"T_c48ab_row7_col4\" class=\"data row7 col4\" >0</td>\n",
       "      <td id=\"T_c48ab_row7_col5\" class=\"data row7 col5\" >0</td>\n",
       "      <td id=\"T_c48ab_row7_col6\" class=\"data row7 col6\" ></td>\n",
       "    </tr>\n",
       "    <tr>\n",
       "      <th id=\"T_c48ab_level0_row8\" class=\"row_heading level0 row8\" >8</th>\n",
       "      <td id=\"T_c48ab_row8_col0\" class=\"data row8 col0\" >category_translation</td>\n",
       "      <td id=\"T_c48ab_row8_col1\" class=\"data row8 col1\" >product_category_name, product_category_name_english</td>\n",
       "      <td id=\"T_c48ab_row8_col2\" class=\"data row8 col2\" >71</td>\n",
       "      <td id=\"T_c48ab_row8_col3\" class=\"data row8 col3\" >2</td>\n",
       "      <td id=\"T_c48ab_row8_col4\" class=\"data row8 col4\" >0</td>\n",
       "      <td id=\"T_c48ab_row8_col5\" class=\"data row8 col5\" >0</td>\n",
       "      <td id=\"T_c48ab_row8_col6\" class=\"data row8 col6\" ></td>\n",
       "    </tr>\n",
       "  </tbody>\n",
       "</table>\n"
      ],
      "text/plain": [
       "<pandas.io.formats.style.Styler at 0x2c79a91ec90>"
      ]
     },
     "execution_count": 6,
     "metadata": {},
     "output_type": "execute_result"
    }
   ],
   "source": [
    "datasets = [customers_df, geolocation_df, items_df, payments_df, reviews_df, orders_df, products_df, sellers_df, category_translation_df]\n",
    "titles = [\"customers\", \"geolocation\", \"items\", \"payments\", \"reviews\", \"orders\", \"products\", \"sellers\", \"category_translation\"]\n",
    "\n",
    "data_summary = pd.DataFrame({},)\n",
    "data_summary['datasets']= titles\n",
    "data_summary['columns'] = [', '.join([col for col, null in data.isnull().sum().items() ]) for data in datasets]\n",
    "data_summary['total_rows']= [data.shape[0] for data in datasets]\n",
    "data_summary['total_cols']= [data.shape[1] for data in datasets]\n",
    "data_summary['total_duplicate']= [len(data[data.duplicated()]) for data in datasets]\n",
    "data_summary['total_null']= [data.isnull().sum().sum() for data in datasets]\n",
    "data_summary['null_cols'] = [', '.join([col for col, null in data.isnull().sum().items() if null > 0]) for data in datasets]\n",
    "data_summary.style.background_gradient(cmap='YlGnBu')"
   ]
  },
  {
   "cell_type": "code",
   "execution_count": 7,
   "metadata": {},
   "outputs": [],
   "source": [
    "for i in datasets:\n",
    "    i.dropna(inplace=True)"
   ]
  },
  {
   "cell_type": "code",
   "execution_count": 8,
   "metadata": {},
   "outputs": [],
   "source": [
    "for i in datasets:\n",
    "    i.drop(i[i.duplicated()].index, axis=0, inplace=True)"
   ]
  },
  {
   "cell_type": "code",
   "execution_count": 9,
   "metadata": {},
   "outputs": [
    {
     "data": {
      "text/html": [
       "<style type=\"text/css\">\n",
       "#T_eed99_row0_col2 {\n",
       "  background-color: #eaf7b1;\n",
       "  color: #000000;\n",
       "}\n",
       "#T_eed99_row0_col3, #T_eed99_row1_col3, #T_eed99_row3_col3 {\n",
       "  background-color: #65c3bf;\n",
       "  color: #000000;\n",
       "}\n",
       "#T_eed99_row0_col4, #T_eed99_row0_col5, #T_eed99_row1_col4, #T_eed99_row1_col5, #T_eed99_row2_col4, #T_eed99_row2_col5, #T_eed99_row3_col4, #T_eed99_row3_col5, #T_eed99_row4_col4, #T_eed99_row4_col5, #T_eed99_row5_col4, #T_eed99_row5_col5, #T_eed99_row6_col4, #T_eed99_row6_col5, #T_eed99_row7_col4, #T_eed99_row7_col5, #T_eed99_row8_col2, #T_eed99_row8_col3, #T_eed99_row8_col4, #T_eed99_row8_col5 {\n",
       "  background-color: #ffffd9;\n",
       "  color: #000000;\n",
       "}\n",
       "#T_eed99_row1_col2, #T_eed99_row6_col3 {\n",
       "  background-color: #081d58;\n",
       "  color: #f1f1f1;\n",
       "}\n",
       "#T_eed99_row2_col2 {\n",
       "  background-color: #e5f5b2;\n",
       "  color: #000000;\n",
       "}\n",
       "#T_eed99_row2_col3, #T_eed99_row4_col3 {\n",
       "  background-color: #216daf;\n",
       "  color: #f1f1f1;\n",
       "}\n",
       "#T_eed99_row3_col2 {\n",
       "  background-color: #e9f7b1;\n",
       "  color: #000000;\n",
       "}\n",
       "#T_eed99_row4_col2 {\n",
       "  background-color: #fdfed5;\n",
       "  color: #000000;\n",
       "}\n",
       "#T_eed99_row5_col2 {\n",
       "  background-color: #ecf7b1;\n",
       "  color: #000000;\n",
       "}\n",
       "#T_eed99_row5_col3 {\n",
       "  background-color: #253997;\n",
       "  color: #f1f1f1;\n",
       "}\n",
       "#T_eed99_row6_col2 {\n",
       "  background-color: #f9fdcb;\n",
       "  color: #000000;\n",
       "}\n",
       "#T_eed99_row7_col2 {\n",
       "  background-color: #feffd8;\n",
       "  color: #000000;\n",
       "}\n",
       "#T_eed99_row7_col3 {\n",
       "  background-color: #b2e1b6;\n",
       "  color: #000000;\n",
       "}\n",
       "</style>\n",
       "<table id=\"T_eed99\">\n",
       "  <thead>\n",
       "    <tr>\n",
       "      <th class=\"blank level0\" >&nbsp;</th>\n",
       "      <th id=\"T_eed99_level0_col0\" class=\"col_heading level0 col0\" >datasets</th>\n",
       "      <th id=\"T_eed99_level0_col1\" class=\"col_heading level0 col1\" >columns</th>\n",
       "      <th id=\"T_eed99_level0_col2\" class=\"col_heading level0 col2\" >total_rows</th>\n",
       "      <th id=\"T_eed99_level0_col3\" class=\"col_heading level0 col3\" >total_cols</th>\n",
       "      <th id=\"T_eed99_level0_col4\" class=\"col_heading level0 col4\" >total_duplicate</th>\n",
       "      <th id=\"T_eed99_level0_col5\" class=\"col_heading level0 col5\" >total_null</th>\n",
       "      <th id=\"T_eed99_level0_col6\" class=\"col_heading level0 col6\" >null_cols</th>\n",
       "    </tr>\n",
       "  </thead>\n",
       "  <tbody>\n",
       "    <tr>\n",
       "      <th id=\"T_eed99_level0_row0\" class=\"row_heading level0 row0\" >0</th>\n",
       "      <td id=\"T_eed99_row0_col0\" class=\"data row0 col0\" >customers</td>\n",
       "      <td id=\"T_eed99_row0_col1\" class=\"data row0 col1\" >customer_id, customer_unique_id, customer_zip_code_prefix, customer_city, customer_state</td>\n",
       "      <td id=\"T_eed99_row0_col2\" class=\"data row0 col2\" >99441</td>\n",
       "      <td id=\"T_eed99_row0_col3\" class=\"data row0 col3\" >5</td>\n",
       "      <td id=\"T_eed99_row0_col4\" class=\"data row0 col4\" >0</td>\n",
       "      <td id=\"T_eed99_row0_col5\" class=\"data row0 col5\" >0</td>\n",
       "      <td id=\"T_eed99_row0_col6\" class=\"data row0 col6\" ></td>\n",
       "    </tr>\n",
       "    <tr>\n",
       "      <th id=\"T_eed99_level0_row1\" class=\"row_heading level0 row1\" >1</th>\n",
       "      <td id=\"T_eed99_row1_col0\" class=\"data row1 col0\" >geolocation</td>\n",
       "      <td id=\"T_eed99_row1_col1\" class=\"data row1 col1\" >geolocation_zip_code_prefix, geolocation_lat, geolocation_lng, geolocation_city, geolocation_state</td>\n",
       "      <td id=\"T_eed99_row1_col2\" class=\"data row1 col2\" >738332</td>\n",
       "      <td id=\"T_eed99_row1_col3\" class=\"data row1 col3\" >5</td>\n",
       "      <td id=\"T_eed99_row1_col4\" class=\"data row1 col4\" >0</td>\n",
       "      <td id=\"T_eed99_row1_col5\" class=\"data row1 col5\" >0</td>\n",
       "      <td id=\"T_eed99_row1_col6\" class=\"data row1 col6\" ></td>\n",
       "    </tr>\n",
       "    <tr>\n",
       "      <th id=\"T_eed99_level0_row2\" class=\"row_heading level0 row2\" >2</th>\n",
       "      <td id=\"T_eed99_row2_col0\" class=\"data row2 col0\" >items</td>\n",
       "      <td id=\"T_eed99_row2_col1\" class=\"data row2 col1\" >order_id, order_item_id, product_id, seller_id, shipping_limit_date, price, freight_value</td>\n",
       "      <td id=\"T_eed99_row2_col2\" class=\"data row2 col2\" >112650</td>\n",
       "      <td id=\"T_eed99_row2_col3\" class=\"data row2 col3\" >7</td>\n",
       "      <td id=\"T_eed99_row2_col4\" class=\"data row2 col4\" >0</td>\n",
       "      <td id=\"T_eed99_row2_col5\" class=\"data row2 col5\" >0</td>\n",
       "      <td id=\"T_eed99_row2_col6\" class=\"data row2 col6\" ></td>\n",
       "    </tr>\n",
       "    <tr>\n",
       "      <th id=\"T_eed99_level0_row3\" class=\"row_heading level0 row3\" >3</th>\n",
       "      <td id=\"T_eed99_row3_col0\" class=\"data row3 col0\" >payments</td>\n",
       "      <td id=\"T_eed99_row3_col1\" class=\"data row3 col1\" >order_id, payment_sequential, payment_type, payment_installments, payment_value</td>\n",
       "      <td id=\"T_eed99_row3_col2\" class=\"data row3 col2\" >103886</td>\n",
       "      <td id=\"T_eed99_row3_col3\" class=\"data row3 col3\" >5</td>\n",
       "      <td id=\"T_eed99_row3_col4\" class=\"data row3 col4\" >0</td>\n",
       "      <td id=\"T_eed99_row3_col5\" class=\"data row3 col5\" >0</td>\n",
       "      <td id=\"T_eed99_row3_col6\" class=\"data row3 col6\" ></td>\n",
       "    </tr>\n",
       "    <tr>\n",
       "      <th id=\"T_eed99_level0_row4\" class=\"row_heading level0 row4\" >4</th>\n",
       "      <td id=\"T_eed99_row4_col0\" class=\"data row4 col0\" >reviews</td>\n",
       "      <td id=\"T_eed99_row4_col1\" class=\"data row4 col1\" >review_id, order_id, review_score, review_comment_title, review_comment_message, review_creation_date, review_answer_timestamp</td>\n",
       "      <td id=\"T_eed99_row4_col2\" class=\"data row4 col2\" >9839</td>\n",
       "      <td id=\"T_eed99_row4_col3\" class=\"data row4 col3\" >7</td>\n",
       "      <td id=\"T_eed99_row4_col4\" class=\"data row4 col4\" >0</td>\n",
       "      <td id=\"T_eed99_row4_col5\" class=\"data row4 col5\" >0</td>\n",
       "      <td id=\"T_eed99_row4_col6\" class=\"data row4 col6\" ></td>\n",
       "    </tr>\n",
       "    <tr>\n",
       "      <th id=\"T_eed99_level0_row5\" class=\"row_heading level0 row5\" >5</th>\n",
       "      <td id=\"T_eed99_row5_col0\" class=\"data row5 col0\" >orders</td>\n",
       "      <td id=\"T_eed99_row5_col1\" class=\"data row5 col1\" >order_id, customer_id, order_status, order_purchase_timestamp, order_approved_at, order_delivered_carrier_date, order_delivered_customer_date, order_estimated_delivery_date</td>\n",
       "      <td id=\"T_eed99_row5_col2\" class=\"data row5 col2\" >96461</td>\n",
       "      <td id=\"T_eed99_row5_col3\" class=\"data row5 col3\" >8</td>\n",
       "      <td id=\"T_eed99_row5_col4\" class=\"data row5 col4\" >0</td>\n",
       "      <td id=\"T_eed99_row5_col5\" class=\"data row5 col5\" >0</td>\n",
       "      <td id=\"T_eed99_row5_col6\" class=\"data row5 col6\" ></td>\n",
       "    </tr>\n",
       "    <tr>\n",
       "      <th id=\"T_eed99_level0_row6\" class=\"row_heading level0 row6\" >6</th>\n",
       "      <td id=\"T_eed99_row6_col0\" class=\"data row6 col0\" >products</td>\n",
       "      <td id=\"T_eed99_row6_col1\" class=\"data row6 col1\" >product_id, product_category_name, product_name_lenght, product_description_lenght, product_photos_qty, product_weight_g, product_length_cm, product_height_cm, product_width_cm</td>\n",
       "      <td id=\"T_eed99_row6_col2\" class=\"data row6 col2\" >32340</td>\n",
       "      <td id=\"T_eed99_row6_col3\" class=\"data row6 col3\" >9</td>\n",
       "      <td id=\"T_eed99_row6_col4\" class=\"data row6 col4\" >0</td>\n",
       "      <td id=\"T_eed99_row6_col5\" class=\"data row6 col5\" >0</td>\n",
       "      <td id=\"T_eed99_row6_col6\" class=\"data row6 col6\" ></td>\n",
       "    </tr>\n",
       "    <tr>\n",
       "      <th id=\"T_eed99_level0_row7\" class=\"row_heading level0 row7\" >7</th>\n",
       "      <td id=\"T_eed99_row7_col0\" class=\"data row7 col0\" >sellers</td>\n",
       "      <td id=\"T_eed99_row7_col1\" class=\"data row7 col1\" >seller_id, seller_zip_code_prefix, seller_city, seller_state</td>\n",
       "      <td id=\"T_eed99_row7_col2\" class=\"data row7 col2\" >3095</td>\n",
       "      <td id=\"T_eed99_row7_col3\" class=\"data row7 col3\" >4</td>\n",
       "      <td id=\"T_eed99_row7_col4\" class=\"data row7 col4\" >0</td>\n",
       "      <td id=\"T_eed99_row7_col5\" class=\"data row7 col5\" >0</td>\n",
       "      <td id=\"T_eed99_row7_col6\" class=\"data row7 col6\" ></td>\n",
       "    </tr>\n",
       "    <tr>\n",
       "      <th id=\"T_eed99_level0_row8\" class=\"row_heading level0 row8\" >8</th>\n",
       "      <td id=\"T_eed99_row8_col0\" class=\"data row8 col0\" >category_translation</td>\n",
       "      <td id=\"T_eed99_row8_col1\" class=\"data row8 col1\" >product_category_name, product_category_name_english</td>\n",
       "      <td id=\"T_eed99_row8_col2\" class=\"data row8 col2\" >71</td>\n",
       "      <td id=\"T_eed99_row8_col3\" class=\"data row8 col3\" >2</td>\n",
       "      <td id=\"T_eed99_row8_col4\" class=\"data row8 col4\" >0</td>\n",
       "      <td id=\"T_eed99_row8_col5\" class=\"data row8 col5\" >0</td>\n",
       "      <td id=\"T_eed99_row8_col6\" class=\"data row8 col6\" ></td>\n",
       "    </tr>\n",
       "  </tbody>\n",
       "</table>\n"
      ],
      "text/plain": [
       "<pandas.io.formats.style.Styler at 0x2c7970b6890>"
      ]
     },
     "execution_count": 9,
     "metadata": {},
     "output_type": "execute_result"
    }
   ],
   "source": [
    "data_summary = pd.DataFrame({},)\n",
    "data_summary['datasets']= titles\n",
    "data_summary['columns'] = [', '.join([col for col, null in data.isnull().sum().items() ]) for data in datasets]\n",
    "data_summary['total_rows']= [data.shape[0] for data in datasets]\n",
    "data_summary['total_cols']= [data.shape[1] for data in datasets]\n",
    "data_summary['total_duplicate']= [len(data[data.duplicated()]) for data in datasets]\n",
    "data_summary['total_null']= [data.isnull().sum().sum() for data in datasets]\n",
    "data_summary['null_cols'] = [', '.join([col for col, null in data.isnull().sum().items() if null > 0]) for data in datasets]\n",
    "data_summary.style.background_gradient(cmap='YlGnBu')"
   ]
  },
  {
   "cell_type": "code",
   "execution_count": 10,
   "metadata": {},
   "outputs": [
    {
     "name": "stdout",
     "output_type": "stream",
     "text": [
      "<class 'pandas.core.frame.DataFrame'>\n",
      "RangeIndex: 99441 entries, 0 to 99440\n",
      "Data columns (total 5 columns):\n",
      " #   Column                    Non-Null Count  Dtype \n",
      "---  ------                    --------------  ----- \n",
      " 0   customer_id               99441 non-null  object\n",
      " 1   customer_unique_id        99441 non-null  object\n",
      " 2   customer_zip_code_prefix  99441 non-null  int64 \n",
      " 3   customer_city             99441 non-null  object\n",
      " 4   customer_state            99441 non-null  object\n",
      "dtypes: int64(1), object(4)\n",
      "memory usage: 3.8+ MB\n",
      "<class 'pandas.core.frame.DataFrame'>\n",
      "Index: 738332 entries, 0 to 1000161\n",
      "Data columns (total 5 columns):\n",
      " #   Column                       Non-Null Count   Dtype  \n",
      "---  ------                       --------------   -----  \n",
      " 0   geolocation_zip_code_prefix  738332 non-null  int64  \n",
      " 1   geolocation_lat              738332 non-null  float64\n",
      " 2   geolocation_lng              738332 non-null  float64\n",
      " 3   geolocation_city             738332 non-null  object \n",
      " 4   geolocation_state            738332 non-null  object \n",
      "dtypes: float64(2), int64(1), object(2)\n",
      "memory usage: 33.8+ MB\n",
      "<class 'pandas.core.frame.DataFrame'>\n",
      "RangeIndex: 112650 entries, 0 to 112649\n",
      "Data columns (total 7 columns):\n",
      " #   Column               Non-Null Count   Dtype  \n",
      "---  ------               --------------   -----  \n",
      " 0   order_id             112650 non-null  object \n",
      " 1   order_item_id        112650 non-null  int64  \n",
      " 2   product_id           112650 non-null  object \n",
      " 3   seller_id            112650 non-null  object \n",
      " 4   shipping_limit_date  112650 non-null  object \n",
      " 5   price                112650 non-null  float64\n",
      " 6   freight_value        112650 non-null  float64\n",
      "dtypes: float64(2), int64(1), object(4)\n",
      "memory usage: 6.0+ MB\n",
      "<class 'pandas.core.frame.DataFrame'>\n",
      "RangeIndex: 103886 entries, 0 to 103885\n",
      "Data columns (total 5 columns):\n",
      " #   Column                Non-Null Count   Dtype  \n",
      "---  ------                --------------   -----  \n",
      " 0   order_id              103886 non-null  object \n",
      " 1   payment_sequential    103886 non-null  int64  \n",
      " 2   payment_type          103886 non-null  object \n",
      " 3   payment_installments  103886 non-null  int64  \n",
      " 4   payment_value         103886 non-null  float64\n",
      "dtypes: float64(1), int64(2), object(2)\n",
      "memory usage: 4.0+ MB\n",
      "<class 'pandas.core.frame.DataFrame'>\n",
      "Index: 9839 entries, 9 to 99200\n",
      "Data columns (total 7 columns):\n",
      " #   Column                   Non-Null Count  Dtype \n",
      "---  ------                   --------------  ----- \n",
      " 0   review_id                9839 non-null   object\n",
      " 1   order_id                 9839 non-null   object\n",
      " 2   review_score             9839 non-null   int64 \n",
      " 3   review_comment_title     9839 non-null   object\n",
      " 4   review_comment_message   9839 non-null   object\n",
      " 5   review_creation_date     9839 non-null   object\n",
      " 6   review_answer_timestamp  9839 non-null   object\n",
      "dtypes: int64(1), object(6)\n",
      "memory usage: 614.9+ KB\n",
      "<class 'pandas.core.frame.DataFrame'>\n",
      "Index: 96461 entries, 0 to 99440\n",
      "Data columns (total 8 columns):\n",
      " #   Column                         Non-Null Count  Dtype \n",
      "---  ------                         --------------  ----- \n",
      " 0   order_id                       96461 non-null  object\n",
      " 1   customer_id                    96461 non-null  object\n",
      " 2   order_status                   96461 non-null  object\n",
      " 3   order_purchase_timestamp       96461 non-null  object\n",
      " 4   order_approved_at              96461 non-null  object\n",
      " 5   order_delivered_carrier_date   96461 non-null  object\n",
      " 6   order_delivered_customer_date  96461 non-null  object\n",
      " 7   order_estimated_delivery_date  96461 non-null  object\n",
      "dtypes: object(8)\n",
      "memory usage: 6.6+ MB\n",
      "<class 'pandas.core.frame.DataFrame'>\n",
      "Index: 32340 entries, 0 to 32950\n",
      "Data columns (total 9 columns):\n",
      " #   Column                      Non-Null Count  Dtype  \n",
      "---  ------                      --------------  -----  \n",
      " 0   product_id                  32340 non-null  object \n",
      " 1   product_category_name       32340 non-null  object \n",
      " 2   product_name_lenght         32340 non-null  float64\n",
      " 3   product_description_lenght  32340 non-null  float64\n",
      " 4   product_photos_qty          32340 non-null  float64\n",
      " 5   product_weight_g            32340 non-null  float64\n",
      " 6   product_length_cm           32340 non-null  float64\n",
      " 7   product_height_cm           32340 non-null  float64\n",
      " 8   product_width_cm            32340 non-null  float64\n",
      "dtypes: float64(7), object(2)\n",
      "memory usage: 2.5+ MB\n",
      "<class 'pandas.core.frame.DataFrame'>\n",
      "RangeIndex: 3095 entries, 0 to 3094\n",
      "Data columns (total 4 columns):\n",
      " #   Column                  Non-Null Count  Dtype \n",
      "---  ------                  --------------  ----- \n",
      " 0   seller_id               3095 non-null   object\n",
      " 1   seller_zip_code_prefix  3095 non-null   int64 \n",
      " 2   seller_city             3095 non-null   object\n",
      " 3   seller_state            3095 non-null   object\n",
      "dtypes: int64(1), object(3)\n",
      "memory usage: 96.8+ KB\n",
      "<class 'pandas.core.frame.DataFrame'>\n",
      "RangeIndex: 71 entries, 0 to 70\n",
      "Data columns (total 2 columns):\n",
      " #   Column                         Non-Null Count  Dtype \n",
      "---  ------                         --------------  ----- \n",
      " 0   product_category_name          71 non-null     object\n",
      " 1   product_category_name_english  71 non-null     object\n",
      "dtypes: object(2)\n",
      "memory usage: 1.2+ KB\n"
     ]
    }
   ],
   "source": [
    "for df in list_df:\n",
    "    df.info()"
   ]
  },
  {
   "cell_type": "markdown",
   "metadata": {},
   "source": [
    "Merging Data"
   ]
  },
  {
   "cell_type": "code",
   "execution_count": 11,
   "metadata": {},
   "outputs": [
    {
     "data": {
      "text/plain": [
       "(11578, 40)"
      ]
     },
     "execution_count": 11,
     "metadata": {},
     "output_type": "execute_result"
    }
   ],
   "source": [
    "merged_df= pd.merge(customers_df, orders_df, on=\"customer_id\")\n",
    "merged_df= merged_df.merge(reviews_df, on=\"order_id\")\n",
    "merged_df= merged_df.merge(items_df, on=\"order_id\")\n",
    "merged_df= merged_df.merge(products_df, on=\"product_id\")\n",
    "merged_df= merged_df.merge(payments_df, on=\"order_id\")\n",
    "merged_df= merged_df.merge(sellers_df, on='seller_id')\n",
    "merged_df= merged_df.merge(category_translation_df, on='product_category_name')\n",
    "merged_df.shape"
   ]
  },
  {
   "cell_type": "code",
   "execution_count": 12,
   "metadata": {},
   "outputs": [
    {
     "name": "stdout",
     "output_type": "stream",
     "text": [
      "<class 'pandas.core.frame.DataFrame'>\n",
      "RangeIndex: 11578 entries, 0 to 11577\n",
      "Data columns (total 40 columns):\n",
      " #   Column                         Non-Null Count  Dtype  \n",
      "---  ------                         --------------  -----  \n",
      " 0   customer_id                    11578 non-null  object \n",
      " 1   customer_unique_id             11578 non-null  object \n",
      " 2   customer_zip_code_prefix       11578 non-null  int64  \n",
      " 3   customer_city                  11578 non-null  object \n",
      " 4   customer_state                 11578 non-null  object \n",
      " 5   order_id                       11578 non-null  object \n",
      " 6   order_status                   11578 non-null  object \n",
      " 7   order_purchase_timestamp       11578 non-null  object \n",
      " 8   order_approved_at              11578 non-null  object \n",
      " 9   order_delivered_carrier_date   11578 non-null  object \n",
      " 10  order_delivered_customer_date  11578 non-null  object \n",
      " 11  order_estimated_delivery_date  11578 non-null  object \n",
      " 12  review_id                      11578 non-null  object \n",
      " 13  review_score                   11578 non-null  int64  \n",
      " 14  review_comment_title           11578 non-null  object \n",
      " 15  review_comment_message         11578 non-null  object \n",
      " 16  review_creation_date           11578 non-null  object \n",
      " 17  review_answer_timestamp        11578 non-null  object \n",
      " 18  order_item_id                  11578 non-null  int64  \n",
      " 19  product_id                     11578 non-null  object \n",
      " 20  seller_id                      11578 non-null  object \n",
      " 21  shipping_limit_date            11578 non-null  object \n",
      " 22  price                          11578 non-null  float64\n",
      " 23  freight_value                  11578 non-null  float64\n",
      " 24  product_category_name          11578 non-null  object \n",
      " 25  product_name_lenght            11578 non-null  float64\n",
      " 26  product_description_lenght     11578 non-null  float64\n",
      " 27  product_photos_qty             11578 non-null  float64\n",
      " 28  product_weight_g               11578 non-null  float64\n",
      " 29  product_length_cm              11578 non-null  float64\n",
      " 30  product_height_cm              11578 non-null  float64\n",
      " 31  product_width_cm               11578 non-null  float64\n",
      " 32  payment_sequential             11578 non-null  int64  \n",
      " 33  payment_type                   11578 non-null  object \n",
      " 34  payment_installments           11578 non-null  int64  \n",
      " 35  payment_value                  11578 non-null  float64\n",
      " 36  seller_zip_code_prefix         11578 non-null  int64  \n",
      " 37  seller_city                    11578 non-null  object \n",
      " 38  seller_state                   11578 non-null  object \n",
      " 39  product_category_name_english  11578 non-null  object \n",
      "dtypes: float64(10), int64(6), object(24)\n",
      "memory usage: 3.5+ MB\n"
     ]
    }
   ],
   "source": [
    "merged_df.info()"
   ]
  },
  {
   "cell_type": "code",
   "execution_count": 13,
   "metadata": {},
   "outputs": [
    {
     "data": {
      "text/plain": [
       "customer_id                      0\n",
       "customer_unique_id               0\n",
       "customer_zip_code_prefix         0\n",
       "customer_city                    0\n",
       "customer_state                   0\n",
       "order_id                         0\n",
       "order_status                     0\n",
       "order_purchase_timestamp         0\n",
       "order_approved_at                0\n",
       "order_delivered_carrier_date     0\n",
       "order_delivered_customer_date    0\n",
       "order_estimated_delivery_date    0\n",
       "review_id                        0\n",
       "review_score                     0\n",
       "review_comment_title             0\n",
       "review_comment_message           0\n",
       "review_creation_date             0\n",
       "review_answer_timestamp          0\n",
       "order_item_id                    0\n",
       "product_id                       0\n",
       "seller_id                        0\n",
       "shipping_limit_date              0\n",
       "price                            0\n",
       "freight_value                    0\n",
       "product_category_name            0\n",
       "product_name_lenght              0\n",
       "product_description_lenght       0\n",
       "product_photos_qty               0\n",
       "product_weight_g                 0\n",
       "product_length_cm                0\n",
       "product_height_cm                0\n",
       "product_width_cm                 0\n",
       "payment_sequential               0\n",
       "payment_type                     0\n",
       "payment_installments             0\n",
       "payment_value                    0\n",
       "seller_zip_code_prefix           0\n",
       "seller_city                      0\n",
       "seller_state                     0\n",
       "product_category_name_english    0\n",
       "dtype: int64"
      ]
     },
     "execution_count": 13,
     "metadata": {},
     "output_type": "execute_result"
    }
   ],
   "source": [
    "merged_df.isnull().sum()"
   ]
  },
  {
   "cell_type": "markdown",
   "metadata": {},
   "source": [
    "# RFM"
   ]
  },
  {
   "cell_type": "markdown",
   "metadata": {},
   "source": [
    "“RFM” trong phân tích RFM là viết tắt của tính gần đây, tần suất và giá trị tiền tệ. Phân tích RFM là một cách sử dụng dữ liệu dựa trên hành vi của khách hàng hiện tại để dự đoán cách khách hàng mới có thể hành động trong tương lai. Mô hình RFM được xây dựng bằng cách sử dụng ba yếu tố chính:\n",
    "\n",
    "mức độ gần đây nhất mà khách hàng đã giao dịch với một thương hiệu\n",
    "mức độ thường xuyên họ đã tương tác với một thương hiệu\n",
    "số tiền họ đã chi cho các sản phẩm và dịch vụ của một thương hiệu\n",
    "một hệ thống CRM cơ bản có thể thực hiện theo dõi cơ bản ba đặc điểm dễ định lượng góp phần vào phân tích RFM:\n",
    "\n",
    "Giá trị gần đây: Điều này đề cập đến khoảng thời gian kể từ lần tương tác cuối cùng của khách hàng với một thương hiệu, có thể bao gồm lần mua hàng cuối cùng của họ, lần truy cập trang web, sử dụng ứng dụng di động, lượt \"thích\" trên phương tiện truyền thông xã hội, v.v. Tính gần đây là một số liệu quan trọng vì những khách hàng đã tương tác với thương hiệu của bạn gần đây hơn có nhiều khả năng phản hồi các nỗ lực tiếp thị mới.\n",
    "\n",
    "Giá trị tần suất: Điều này đề cập đến số lần khách hàng đã mua hàng hoặc tương tác theo cách khác với thương hiệu của bạn trong một khoảng thời gian cụ thể. Tần suất là một số liệu quan trọng vì nó cho thấy mức độ gắn bó sâu sắc của khách hàng với thương hiệu của bạn. Tần suất càng cao thì mức độ trung thành của khách hàng càng cao.\n",
    "\n",
    "Giá trị tiền tệ: Đây là tổng số tiền mà khách hàng đã chi để mua sản phẩm và dịch vụ từ thương hiệu của bạn trong một khoảng thời gian cụ thể. Giá trị tiền tệ là một số liệu quan trọng vì những khách hàng đã chi tiêu nhiều nhất trong quá khứ có nhiều khả năng sẽ chi tiêu nhiều hơn trong tương lai"
   ]
  },
  {
   "cell_type": "markdown",
   "metadata": {},
   "source": [
    "# Lấy 2 ngày sau 2 ngày cuối cùng để phân tích"
   ]
  },
  {
   "cell_type": "markdown",
   "metadata": {},
   "source": []
  },
  {
   "cell_type": "code",
   "execution_count": 14,
   "metadata": {},
   "outputs": [
    {
     "name": "stdout",
     "output_type": "stream",
     "text": [
      "2018-08-31 14:18:28\n"
     ]
    }
   ],
   "source": [
    "# Chuyển cột sang kiểu datetime\n",
    "merged_df['order_purchase_timestamp'] = pd.to_datetime(merged_df['order_purchase_timestamp'])\n",
    "\n",
    "# Tính giá trị lớn nhất và cộng timedelta\n",
    "present_day = merged_df['order_purchase_timestamp'].max() + dt.timedelta(days=2)\n",
    "print(present_day)"
   ]
  },
  {
   "cell_type": "markdown",
   "metadata": {},
   "source": [
    "Lấy 2018-08-31 14:18:28 là ngày cuối cùng để tính RFM"
   ]
  },
  {
   "cell_type": "code",
   "execution_count": 15,
   "metadata": {},
   "outputs": [
    {
     "name": "stdout",
     "output_type": "stream",
     "text": [
      "Latest date in dataset:  2018-08-29 14:18:28\n"
     ]
    }
   ],
   "source": [
    "print(\"Latest date in dataset: \", merged_df['order_purchase_timestamp'].max())"
   ]
  },
  {
   "cell_type": "markdown",
   "metadata": {},
   "source": [
    "# Xác định \"Recency\", \"Frequency\", \"Monetary\""
   ]
  },
  {
   "cell_type": "markdown",
   "metadata": {},
   "source": [
    "DataFrame recency_df tổng hợp dữ liệu về lần mua hàng gần đây nhất của từng khách hàng"
   ]
  },
  {
   "cell_type": "code",
   "execution_count": 16,
   "metadata": {},
   "outputs": [
    {
     "data": {
      "text/html": [
       "<div>\n",
       "<style scoped>\n",
       "    .dataframe tbody tr th:only-of-type {\n",
       "        vertical-align: middle;\n",
       "    }\n",
       "\n",
       "    .dataframe tbody tr th {\n",
       "        vertical-align: top;\n",
       "    }\n",
       "\n",
       "    .dataframe thead th {\n",
       "        text-align: right;\n",
       "    }\n",
       "</style>\n",
       "<table border=\"1\" class=\"dataframe\">\n",
       "  <thead>\n",
       "    <tr style=\"text-align: right;\">\n",
       "      <th></th>\n",
       "      <th>customer_unique_id</th>\n",
       "      <th>order_purchase_timestamp</th>\n",
       "    </tr>\n",
       "  </thead>\n",
       "  <tbody>\n",
       "    <tr>\n",
       "      <th>0</th>\n",
       "      <td>0000366f3b9a7992bf8c76cfdf3221e2</td>\n",
       "      <td>2018-05-10 10:56:27</td>\n",
       "    </tr>\n",
       "    <tr>\n",
       "      <th>1</th>\n",
       "      <td>000ec5bff359e1c0ad76a81a45cb598f</td>\n",
       "      <td>2018-08-21 11:34:26</td>\n",
       "    </tr>\n",
       "    <tr>\n",
       "      <th>2</th>\n",
       "      <td>00172711b30d52eea8b313a7f2cced02</td>\n",
       "      <td>2018-07-28 00:23:49</td>\n",
       "    </tr>\n",
       "    <tr>\n",
       "      <th>3</th>\n",
       "      <td>001928b561575b2821c92254a2327d06</td>\n",
       "      <td>2018-08-24 21:17:00</td>\n",
       "    </tr>\n",
       "    <tr>\n",
       "      <th>4</th>\n",
       "      <td>0019e8c501c85848ac0966d45226fa1d</td>\n",
       "      <td>2018-05-01 09:25:32</td>\n",
       "    </tr>\n",
       "    <tr>\n",
       "      <th>...</th>\n",
       "      <td>...</td>\n",
       "      <td>...</td>\n",
       "    </tr>\n",
       "    <tr>\n",
       "      <th>9328</th>\n",
       "      <td>ffeb904468642a1ce663a322629801cb</td>\n",
       "      <td>2018-06-27 11:57:41</td>\n",
       "    </tr>\n",
       "    <tr>\n",
       "      <th>9329</th>\n",
       "      <td>ffecceca389973ef16660d58696f281e</td>\n",
       "      <td>2018-04-25 12:08:11</td>\n",
       "    </tr>\n",
       "    <tr>\n",
       "      <th>9330</th>\n",
       "      <td>fff2ae16b99c6f3c785f0e052f2a9cfb</td>\n",
       "      <td>2018-04-20 11:03:47</td>\n",
       "    </tr>\n",
       "    <tr>\n",
       "      <th>9331</th>\n",
       "      <td>fff3e1d7bc75f11dc7670619b2e61840</td>\n",
       "      <td>2018-07-20 13:47:30</td>\n",
       "    </tr>\n",
       "    <tr>\n",
       "      <th>9332</th>\n",
       "      <td>ffff5962728ec6157033ef9805bacc48</td>\n",
       "      <td>2018-05-02 15:17:41</td>\n",
       "    </tr>\n",
       "  </tbody>\n",
       "</table>\n",
       "<p>9333 rows × 2 columns</p>\n",
       "</div>"
      ],
      "text/plain": [
       "                    customer_unique_id order_purchase_timestamp\n",
       "0     0000366f3b9a7992bf8c76cfdf3221e2      2018-05-10 10:56:27\n",
       "1     000ec5bff359e1c0ad76a81a45cb598f      2018-08-21 11:34:26\n",
       "2     00172711b30d52eea8b313a7f2cced02      2018-07-28 00:23:49\n",
       "3     001928b561575b2821c92254a2327d06      2018-08-24 21:17:00\n",
       "4     0019e8c501c85848ac0966d45226fa1d      2018-05-01 09:25:32\n",
       "...                                ...                      ...\n",
       "9328  ffeb904468642a1ce663a322629801cb      2018-06-27 11:57:41\n",
       "9329  ffecceca389973ef16660d58696f281e      2018-04-25 12:08:11\n",
       "9330  fff2ae16b99c6f3c785f0e052f2a9cfb      2018-04-20 11:03:47\n",
       "9331  fff3e1d7bc75f11dc7670619b2e61840      2018-07-20 13:47:30\n",
       "9332  ffff5962728ec6157033ef9805bacc48      2018-05-02 15:17:41\n",
       "\n",
       "[9333 rows x 2 columns]"
      ]
     },
     "execution_count": 16,
     "metadata": {},
     "output_type": "execute_result"
    }
   ],
   "source": [
    "recency_df= pd.DataFrame(merged_df.groupby(by='customer_unique_id', as_index=False)['order_purchase_timestamp'].max())\n",
    "recency_df"
   ]
  },
  {
   "cell_type": "markdown",
   "metadata": {},
   "source": [
    "Câu lệnh này thêm một cột mới vào DataFrame recency_df để tính Recency, đại diện cho số ngày kể từ lần mua hàng gần nhất của mỗi khách hàng so với ngày tham chiếu (present_day)"
   ]
  },
  {
   "cell_type": "code",
   "execution_count": 17,
   "metadata": {},
   "outputs": [
    {
     "data": {
      "text/html": [
       "<div>\n",
       "<style scoped>\n",
       "    .dataframe tbody tr th:only-of-type {\n",
       "        vertical-align: middle;\n",
       "    }\n",
       "\n",
       "    .dataframe tbody tr th {\n",
       "        vertical-align: top;\n",
       "    }\n",
       "\n",
       "    .dataframe thead th {\n",
       "        text-align: right;\n",
       "    }\n",
       "</style>\n",
       "<table border=\"1\" class=\"dataframe\">\n",
       "  <thead>\n",
       "    <tr style=\"text-align: right;\">\n",
       "      <th></th>\n",
       "      <th>customer_unique_id</th>\n",
       "      <th>order_purchase_timestamp</th>\n",
       "      <th>Recency</th>\n",
       "    </tr>\n",
       "  </thead>\n",
       "  <tbody>\n",
       "    <tr>\n",
       "      <th>0</th>\n",
       "      <td>0000366f3b9a7992bf8c76cfdf3221e2</td>\n",
       "      <td>2018-05-10 10:56:27</td>\n",
       "      <td>113</td>\n",
       "    </tr>\n",
       "    <tr>\n",
       "      <th>1</th>\n",
       "      <td>000ec5bff359e1c0ad76a81a45cb598f</td>\n",
       "      <td>2018-08-21 11:34:26</td>\n",
       "      <td>10</td>\n",
       "    </tr>\n",
       "    <tr>\n",
       "      <th>2</th>\n",
       "      <td>00172711b30d52eea8b313a7f2cced02</td>\n",
       "      <td>2018-07-28 00:23:49</td>\n",
       "      <td>34</td>\n",
       "    </tr>\n",
       "    <tr>\n",
       "      <th>3</th>\n",
       "      <td>001928b561575b2821c92254a2327d06</td>\n",
       "      <td>2018-08-24 21:17:00</td>\n",
       "      <td>6</td>\n",
       "    </tr>\n",
       "    <tr>\n",
       "      <th>4</th>\n",
       "      <td>0019e8c501c85848ac0966d45226fa1d</td>\n",
       "      <td>2018-05-01 09:25:32</td>\n",
       "      <td>122</td>\n",
       "    </tr>\n",
       "    <tr>\n",
       "      <th>...</th>\n",
       "      <td>...</td>\n",
       "      <td>...</td>\n",
       "      <td>...</td>\n",
       "    </tr>\n",
       "    <tr>\n",
       "      <th>9328</th>\n",
       "      <td>ffeb904468642a1ce663a322629801cb</td>\n",
       "      <td>2018-06-27 11:57:41</td>\n",
       "      <td>65</td>\n",
       "    </tr>\n",
       "    <tr>\n",
       "      <th>9329</th>\n",
       "      <td>ffecceca389973ef16660d58696f281e</td>\n",
       "      <td>2018-04-25 12:08:11</td>\n",
       "      <td>128</td>\n",
       "    </tr>\n",
       "    <tr>\n",
       "      <th>9330</th>\n",
       "      <td>fff2ae16b99c6f3c785f0e052f2a9cfb</td>\n",
       "      <td>2018-04-20 11:03:47</td>\n",
       "      <td>133</td>\n",
       "    </tr>\n",
       "    <tr>\n",
       "      <th>9331</th>\n",
       "      <td>fff3e1d7bc75f11dc7670619b2e61840</td>\n",
       "      <td>2018-07-20 13:47:30</td>\n",
       "      <td>42</td>\n",
       "    </tr>\n",
       "    <tr>\n",
       "      <th>9332</th>\n",
       "      <td>ffff5962728ec6157033ef9805bacc48</td>\n",
       "      <td>2018-05-02 15:17:41</td>\n",
       "      <td>120</td>\n",
       "    </tr>\n",
       "  </tbody>\n",
       "</table>\n",
       "<p>9333 rows × 3 columns</p>\n",
       "</div>"
      ],
      "text/plain": [
       "                    customer_unique_id order_purchase_timestamp  Recency\n",
       "0     0000366f3b9a7992bf8c76cfdf3221e2      2018-05-10 10:56:27      113\n",
       "1     000ec5bff359e1c0ad76a81a45cb598f      2018-08-21 11:34:26       10\n",
       "2     00172711b30d52eea8b313a7f2cced02      2018-07-28 00:23:49       34\n",
       "3     001928b561575b2821c92254a2327d06      2018-08-24 21:17:00        6\n",
       "4     0019e8c501c85848ac0966d45226fa1d      2018-05-01 09:25:32      122\n",
       "...                                ...                      ...      ...\n",
       "9328  ffeb904468642a1ce663a322629801cb      2018-06-27 11:57:41       65\n",
       "9329  ffecceca389973ef16660d58696f281e      2018-04-25 12:08:11      128\n",
       "9330  fff2ae16b99c6f3c785f0e052f2a9cfb      2018-04-20 11:03:47      133\n",
       "9331  fff3e1d7bc75f11dc7670619b2e61840      2018-07-20 13:47:30       42\n",
       "9332  ffff5962728ec6157033ef9805bacc48      2018-05-02 15:17:41      120\n",
       "\n",
       "[9333 rows x 3 columns]"
      ]
     },
     "execution_count": 17,
     "metadata": {},
     "output_type": "execute_result"
    }
   ],
   "source": [
    "recency_df['Recency']= recency_df['order_purchase_timestamp'].apply(lambda x: (present_day - x).days)\n",
    "recency_df"
   ]
  },
  {
   "cell_type": "markdown",
   "metadata": {},
   "source": [
    "Tạo một DataFrame mới frequency_df, trong đó mỗi hàng đại diện cho một khách hàng duy nhất và số lượng đơn hàng mà khách hàng đó đã thực hiện (Frequency)"
   ]
  },
  {
   "cell_type": "code",
   "execution_count": 18,
   "metadata": {},
   "outputs": [
    {
     "data": {
      "text/html": [
       "<div>\n",
       "<style scoped>\n",
       "    .dataframe tbody tr th:only-of-type {\n",
       "        vertical-align: middle;\n",
       "    }\n",
       "\n",
       "    .dataframe tbody tr th {\n",
       "        vertical-align: top;\n",
       "    }\n",
       "\n",
       "    .dataframe thead th {\n",
       "        text-align: right;\n",
       "    }\n",
       "</style>\n",
       "<table border=\"1\" class=\"dataframe\">\n",
       "  <thead>\n",
       "    <tr style=\"text-align: right;\">\n",
       "      <th></th>\n",
       "      <th>customer_unique_id</th>\n",
       "      <th>Frequency</th>\n",
       "    </tr>\n",
       "  </thead>\n",
       "  <tbody>\n",
       "    <tr>\n",
       "      <th>0</th>\n",
       "      <td>0000366f3b9a7992bf8c76cfdf3221e2</td>\n",
       "      <td>1</td>\n",
       "    </tr>\n",
       "    <tr>\n",
       "      <th>1</th>\n",
       "      <td>000ec5bff359e1c0ad76a81a45cb598f</td>\n",
       "      <td>1</td>\n",
       "    </tr>\n",
       "    <tr>\n",
       "      <th>2</th>\n",
       "      <td>00172711b30d52eea8b313a7f2cced02</td>\n",
       "      <td>1</td>\n",
       "    </tr>\n",
       "    <tr>\n",
       "      <th>3</th>\n",
       "      <td>001928b561575b2821c92254a2327d06</td>\n",
       "      <td>1</td>\n",
       "    </tr>\n",
       "    <tr>\n",
       "      <th>4</th>\n",
       "      <td>0019e8c501c85848ac0966d45226fa1d</td>\n",
       "      <td>1</td>\n",
       "    </tr>\n",
       "    <tr>\n",
       "      <th>...</th>\n",
       "      <td>...</td>\n",
       "      <td>...</td>\n",
       "    </tr>\n",
       "    <tr>\n",
       "      <th>9328</th>\n",
       "      <td>ffeb904468642a1ce663a322629801cb</td>\n",
       "      <td>1</td>\n",
       "    </tr>\n",
       "    <tr>\n",
       "      <th>9329</th>\n",
       "      <td>ffecceca389973ef16660d58696f281e</td>\n",
       "      <td>1</td>\n",
       "    </tr>\n",
       "    <tr>\n",
       "      <th>9330</th>\n",
       "      <td>fff2ae16b99c6f3c785f0e052f2a9cfb</td>\n",
       "      <td>1</td>\n",
       "    </tr>\n",
       "    <tr>\n",
       "      <th>9331</th>\n",
       "      <td>fff3e1d7bc75f11dc7670619b2e61840</td>\n",
       "      <td>1</td>\n",
       "    </tr>\n",
       "    <tr>\n",
       "      <th>9332</th>\n",
       "      <td>ffff5962728ec6157033ef9805bacc48</td>\n",
       "      <td>1</td>\n",
       "    </tr>\n",
       "  </tbody>\n",
       "</table>\n",
       "<p>9333 rows × 2 columns</p>\n",
       "</div>"
      ],
      "text/plain": [
       "                    customer_unique_id  Frequency\n",
       "0     0000366f3b9a7992bf8c76cfdf3221e2          1\n",
       "1     000ec5bff359e1c0ad76a81a45cb598f          1\n",
       "2     00172711b30d52eea8b313a7f2cced02          1\n",
       "3     001928b561575b2821c92254a2327d06          1\n",
       "4     0019e8c501c85848ac0966d45226fa1d          1\n",
       "...                                ...        ...\n",
       "9328  ffeb904468642a1ce663a322629801cb          1\n",
       "9329  ffecceca389973ef16660d58696f281e          1\n",
       "9330  fff2ae16b99c6f3c785f0e052f2a9cfb          1\n",
       "9331  fff3e1d7bc75f11dc7670619b2e61840          1\n",
       "9332  ffff5962728ec6157033ef9805bacc48          1\n",
       "\n",
       "[9333 rows x 2 columns]"
      ]
     },
     "execution_count": 18,
     "metadata": {},
     "output_type": "execute_result"
    }
   ],
   "source": [
    "frequency_df = pd.DataFrame(merged_df.groupby([\"customer_unique_id\"]).agg({\"order_id\":\"nunique\"}).reset_index())\n",
    "frequency_df.rename(columns={\"order_id\":\"Frequency\"}, inplace=True)\n",
    "frequency_df"
   ]
  },
  {
   "cell_type": "code",
   "execution_count": 19,
   "metadata": {},
   "outputs": [
    {
     "data": {
      "text/plain": [
       "Frequency\n",
       "1    9234\n",
       "2      95\n",
       "3       4\n",
       "Name: count, dtype: int64"
      ]
     },
     "execution_count": 19,
     "metadata": {},
     "output_type": "execute_result"
    }
   ],
   "source": [
    "frequency_df.value_counts('Frequency')"
   ]
  },
  {
   "cell_type": "markdown",
   "metadata": {},
   "source": [
    "Tạo một DataFrame mới monetary_df để tính tổng giá trị thanh toán (Monetary) của từng khách hàng"
   ]
  },
  {
   "cell_type": "code",
   "execution_count": 20,
   "metadata": {},
   "outputs": [
    {
     "data": {
      "text/html": [
       "<div>\n",
       "<style scoped>\n",
       "    .dataframe tbody tr th:only-of-type {\n",
       "        vertical-align: middle;\n",
       "    }\n",
       "\n",
       "    .dataframe tbody tr th {\n",
       "        vertical-align: top;\n",
       "    }\n",
       "\n",
       "    .dataframe thead th {\n",
       "        text-align: right;\n",
       "    }\n",
       "</style>\n",
       "<table border=\"1\" class=\"dataframe\">\n",
       "  <thead>\n",
       "    <tr style=\"text-align: right;\">\n",
       "      <th></th>\n",
       "      <th>customer_unique_id</th>\n",
       "      <th>Monetary</th>\n",
       "    </tr>\n",
       "  </thead>\n",
       "  <tbody>\n",
       "    <tr>\n",
       "      <th>0</th>\n",
       "      <td>0000366f3b9a7992bf8c76cfdf3221e2</td>\n",
       "      <td>141.90</td>\n",
       "    </tr>\n",
       "    <tr>\n",
       "      <th>1</th>\n",
       "      <td>000ec5bff359e1c0ad76a81a45cb598f</td>\n",
       "      <td>27.75</td>\n",
       "    </tr>\n",
       "    <tr>\n",
       "      <th>2</th>\n",
       "      <td>00172711b30d52eea8b313a7f2cced02</td>\n",
       "      <td>122.07</td>\n",
       "    </tr>\n",
       "    <tr>\n",
       "      <th>3</th>\n",
       "      <td>001928b561575b2821c92254a2327d06</td>\n",
       "      <td>329.62</td>\n",
       "    </tr>\n",
       "    <tr>\n",
       "      <th>4</th>\n",
       "      <td>0019e8c501c85848ac0966d45226fa1d</td>\n",
       "      <td>197.27</td>\n",
       "    </tr>\n",
       "  </tbody>\n",
       "</table>\n",
       "</div>"
      ],
      "text/plain": [
       "                 customer_unique_id  Monetary\n",
       "0  0000366f3b9a7992bf8c76cfdf3221e2    141.90\n",
       "1  000ec5bff359e1c0ad76a81a45cb598f     27.75\n",
       "2  00172711b30d52eea8b313a7f2cced02    122.07\n",
       "3  001928b561575b2821c92254a2327d06    329.62\n",
       "4  0019e8c501c85848ac0966d45226fa1d    197.27"
      ]
     },
     "execution_count": 20,
     "metadata": {},
     "output_type": "execute_result"
    }
   ],
   "source": [
    "monetary_df = merged_df.groupby('customer_unique_id', as_index=False)['payment_value'].sum()\n",
    "monetary_df.columns = ['customer_unique_id', 'Monetary']\n",
    "monetary_df.head()"
   ]
  },
  {
   "cell_type": "markdown",
   "metadata": {},
   "source": [
    "Gép lại thành bảng cuối với \"Recency\", \"Frequency\", \"Monetary\""
   ]
  },
  {
   "cell_type": "code",
   "execution_count": 21,
   "metadata": {},
   "outputs": [
    {
     "data": {
      "text/html": [
       "<div>\n",
       "<style scoped>\n",
       "    .dataframe tbody tr th:only-of-type {\n",
       "        vertical-align: middle;\n",
       "    }\n",
       "\n",
       "    .dataframe tbody tr th {\n",
       "        vertical-align: top;\n",
       "    }\n",
       "\n",
       "    .dataframe thead th {\n",
       "        text-align: right;\n",
       "    }\n",
       "</style>\n",
       "<table border=\"1\" class=\"dataframe\">\n",
       "  <thead>\n",
       "    <tr style=\"text-align: right;\">\n",
       "      <th></th>\n",
       "      <th>customer_unique_id</th>\n",
       "      <th>Recency</th>\n",
       "      <th>Frequency</th>\n",
       "      <th>Monetary</th>\n",
       "    </tr>\n",
       "  </thead>\n",
       "  <tbody>\n",
       "    <tr>\n",
       "      <th>0</th>\n",
       "      <td>0000366f3b9a7992bf8c76cfdf3221e2</td>\n",
       "      <td>113</td>\n",
       "      <td>1</td>\n",
       "      <td>141.90</td>\n",
       "    </tr>\n",
       "    <tr>\n",
       "      <th>1</th>\n",
       "      <td>000ec5bff359e1c0ad76a81a45cb598f</td>\n",
       "      <td>10</td>\n",
       "      <td>1</td>\n",
       "      <td>27.75</td>\n",
       "    </tr>\n",
       "    <tr>\n",
       "      <th>2</th>\n",
       "      <td>00172711b30d52eea8b313a7f2cced02</td>\n",
       "      <td>34</td>\n",
       "      <td>1</td>\n",
       "      <td>122.07</td>\n",
       "    </tr>\n",
       "    <tr>\n",
       "      <th>3</th>\n",
       "      <td>001928b561575b2821c92254a2327d06</td>\n",
       "      <td>6</td>\n",
       "      <td>1</td>\n",
       "      <td>329.62</td>\n",
       "    </tr>\n",
       "    <tr>\n",
       "      <th>4</th>\n",
       "      <td>0019e8c501c85848ac0966d45226fa1d</td>\n",
       "      <td>122</td>\n",
       "      <td>1</td>\n",
       "      <td>197.27</td>\n",
       "    </tr>\n",
       "  </tbody>\n",
       "</table>\n",
       "</div>"
      ],
      "text/plain": [
       "                 customer_unique_id  Recency  Frequency  Monetary\n",
       "0  0000366f3b9a7992bf8c76cfdf3221e2      113          1    141.90\n",
       "1  000ec5bff359e1c0ad76a81a45cb598f       10          1     27.75\n",
       "2  00172711b30d52eea8b313a7f2cced02       34          1    122.07\n",
       "3  001928b561575b2821c92254a2327d06        6          1    329.62\n",
       "4  0019e8c501c85848ac0966d45226fa1d      122          1    197.27"
      ]
     },
     "execution_count": 21,
     "metadata": {},
     "output_type": "execute_result"
    }
   ],
   "source": [
    "RF_df = recency_df.merge(frequency_df, on='customer_unique_id')\n",
    "RFM_df = RF_df.merge(monetary_df, on='customer_unique_id').drop(columns='order_purchase_timestamp')\n",
    "RFM_df.head()"
   ]
  },
  {
   "cell_type": "code",
   "execution_count": 22,
   "metadata": {},
   "outputs": [
    {
     "data": {
      "text/html": [
       "<div>\n",
       "<style scoped>\n",
       "    .dataframe tbody tr th:only-of-type {\n",
       "        vertical-align: middle;\n",
       "    }\n",
       "\n",
       "    .dataframe tbody tr th {\n",
       "        vertical-align: top;\n",
       "    }\n",
       "\n",
       "    .dataframe thead th {\n",
       "        text-align: right;\n",
       "    }\n",
       "</style>\n",
       "<table border=\"1\" class=\"dataframe\">\n",
       "  <thead>\n",
       "    <tr style=\"text-align: right;\">\n",
       "      <th></th>\n",
       "      <th>count</th>\n",
       "      <th>mean</th>\n",
       "      <th>std</th>\n",
       "      <th>min</th>\n",
       "      <th>25%</th>\n",
       "      <th>50%</th>\n",
       "      <th>75%</th>\n",
       "      <th>max</th>\n",
       "    </tr>\n",
       "  </thead>\n",
       "  <tbody>\n",
       "    <tr>\n",
       "      <th>Recency</th>\n",
       "      <td>9333.0</td>\n",
       "      <td>74.851709</td>\n",
       "      <td>42.532132</td>\n",
       "      <td>2.00</td>\n",
       "      <td>37.00</td>\n",
       "      <td>75.00</td>\n",
       "      <td>112.00</td>\n",
       "      <td>483.00</td>\n",
       "    </tr>\n",
       "    <tr>\n",
       "      <th>Frequency</th>\n",
       "      <td>9333.0</td>\n",
       "      <td>1.011036</td>\n",
       "      <td>0.108502</td>\n",
       "      <td>1.00</td>\n",
       "      <td>1.00</td>\n",
       "      <td>1.00</td>\n",
       "      <td>1.00</td>\n",
       "      <td>3.00</td>\n",
       "    </tr>\n",
       "    <tr>\n",
       "      <th>Monetary</th>\n",
       "      <td>9333.0</td>\n",
       "      <td>245.638111</td>\n",
       "      <td>641.607276</td>\n",
       "      <td>13.89</td>\n",
       "      <td>68.18</td>\n",
       "      <td>122.42</td>\n",
       "      <td>217.55</td>\n",
       "      <td>29099.52</td>\n",
       "    </tr>\n",
       "  </tbody>\n",
       "</table>\n",
       "</div>"
      ],
      "text/plain": [
       "            count        mean         std    min    25%     50%     75%  \\\n",
       "Recency    9333.0   74.851709   42.532132   2.00  37.00   75.00  112.00   \n",
       "Frequency  9333.0    1.011036    0.108502   1.00   1.00    1.00    1.00   \n",
       "Monetary   9333.0  245.638111  641.607276  13.89  68.18  122.42  217.55   \n",
       "\n",
       "                max  \n",
       "Recency      483.00  \n",
       "Frequency      3.00  \n",
       "Monetary   29099.52  "
      ]
     },
     "execution_count": 22,
     "metadata": {},
     "output_type": "execute_result"
    }
   ],
   "source": [
    "RFM_df.describe().T"
   ]
  },
  {
   "cell_type": "code",
   "execution_count": 23,
   "metadata": {},
   "outputs": [
    {
     "name": "stdout",
     "output_type": "stream",
     "text": [
      "<class 'pandas.core.frame.DataFrame'>\n",
      "RangeIndex: 9333 entries, 0 to 9332\n",
      "Data columns (total 4 columns):\n",
      " #   Column              Non-Null Count  Dtype  \n",
      "---  ------              --------------  -----  \n",
      " 0   customer_unique_id  9333 non-null   object \n",
      " 1   Recency             9333 non-null   int64  \n",
      " 2   Frequency           9333 non-null   int64  \n",
      " 3   Monetary            9333 non-null   float64\n",
      "dtypes: float64(1), int64(2), object(1)\n",
      "memory usage: 291.8+ KB\n"
     ]
    }
   ],
   "source": [
    "RFM_df.info()\n"
   ]
  },
  {
   "cell_type": "markdown",
   "metadata": {},
   "source": [
    "# Kiểm tra outlayer"
   ]
  },
  {
   "cell_type": "markdown",
   "metadata": {},
   "source": [
    "Mục đích kiểm tra outlier\n",
    "Trong các bài toán phân tích dữ liệu khách hàng, kiểm tra outliers trong các cột RFM là quan trọng vì:\n",
    "\n",
    "Recency:\n",
    "\n",
    "Các khách hàng có giá trị Recency rất cao (nghĩa là đã lâu không mua hàng) có thể là ngoại lệ.\n",
    "\n",
    "Cần xác định xem có nên loại bỏ họ khỏi phân tích hoặc gán họ vào nhóm khách hàng không hoạt động.\n",
    "\n",
    "Frequency:\n",
    "\n",
    "Khách hàng mua hàng cực kỳ nhiều lần so với mức bình thường có thể là ngoại lệ hoặc là các khách hàng đặc biệt (ví dụ: khách hàng doanh nghiệp, đại lý bán lẻ).\n",
    "\n",
    "Monetary:\n",
    "\n",
    "Các giá trị Monetary rất cao có thể là do lỗi dữ liệu hoặc phản ánh các khách hàng chi tiêu vượt trội.\n",
    "\n",
    "Cần kiểm tra xem giá trị ngoại lai này là hợp lý hay không."
   ]
  },
  {
   "cell_type": "code",
   "execution_count": 24,
   "metadata": {},
   "outputs": [
    {
     "data": {
      "image/png": "[encoded data removed]",
      "text/plain": [
       "<Figure size 640x480 with 1 Axes>"
      ]
     },
     "metadata": {},
     "output_type": "display_data"
    },
    {
     "data": {
      "image/png": "[encoded data removed]",
      "text/plain": [
       "<Figure size 640x480 with 1 Axes>"
      ]
     },
     "metadata": {},
     "output_type": "display_data"
    },
    {
     "data": {
      "image/png": "[encoded data removed]",
      "text/plain": [
       "<Figure size 640x480 with 1 Axes>"
      ]
     },
     "metadata": {},
     "output_type": "display_data"
    }
   ],
   "source": [
    "for i in [\"Recency\", \"Frequency\", \"Monetary\"]:\n",
    "    plt.figure()\n",
    "    plt.tight_layout()\n",
    "    plt.gca().set(xlabel= i, ylabel='Frequency')\n",
    "    plt.boxplot(RFM_df[i])"
   ]
  },
  {
   "cell_type": "code",
   "execution_count": 25,
   "metadata": {},
   "outputs": [],
   "source": [
    "def num_outlier(df_in, col_name):\n",
    "    q1 = df_in[col_name].quantile(0.05)\n",
    "    q3 = df_in[col_name].quantile(0.95)\n",
    "    iqr = q3-q1 #Interquartile range\n",
    "    fence_low  = q1-1.5*iqr\n",
    "    fence_high = q3+1.5*iqr\n",
    "    outliers_df= df_in.loc[(df_in[col_name] < fence_low) | (df_in[col_name] > fence_high)]\n",
    "    return print(\"Number of outliers in {} column: \".format(col_name), len(outliers_df)), print(\"Indexes: \", outliers_df.index)"
   ]
  },
  {
   "cell_type": "code",
   "execution_count": 46,
   "metadata": {},
   "outputs": [],
   "source": [
    "# for i in [\"Recency\", \"Frequency\", \"Monetary\"]:\n",
    "#     num_outlier(RFM_df, i)\n",
    "#     print(\"*\"*40)"
   ]
  },
  {
   "cell_type": "code",
   "execution_count": 27,
   "metadata": {},
   "outputs": [],
   "source": [
    "def remove_outlier(df_in, col_name):\n",
    "    q1 = df_in[col_name].quantile(0.05)\n",
    "    q3 = df_in[col_name].quantile(0.95)\n",
    "    iqr = q3-q1     \n",
    "    fence_low  = q1-1.5*iqr\n",
    "    fence_high = q3+1.5*iqr\n",
    "    index_outliers= df_in.loc[(df_in[col_name] < fence_low) | (df_in[col_name] > fence_high)].index\n",
    "    df_in= pd.DataFrame(df_in.drop(index_outliers.to_list(), axis=0, inplace=True))\n",
    "    print(\"Outliers in the {} column have been removed\".format(col_name))\n",
    "    return df_in"
   ]
  },
  {
   "cell_type": "code",
   "execution_count": 28,
   "metadata": {},
   "outputs": [
    {
     "name": "stdout",
     "output_type": "stream",
     "text": [
      "Outliers in the Recency column have been removed\n",
      "****************************************\n",
      "Outliers in the Monetary column have been removed\n",
      "****************************************\n"
     ]
    }
   ],
   "source": [
    "for i in [\"Recency\", \"Monetary\"]:\n",
    "    remove_outlier(RFM_df, i)\n",
    "    print(\"*\"*40)"
   ]
  },
  {
   "cell_type": "code",
   "execution_count": 29,
   "metadata": {},
   "outputs": [
    {
     "data": {
      "text/plain": [
       "(9230, 4)"
      ]
     },
     "execution_count": 29,
     "metadata": {},
     "output_type": "execute_result"
    }
   ],
   "source": [
    "RFM_df.shape"
   ]
  },
  {
   "cell_type": "code",
   "execution_count": 30,
   "metadata": {},
   "outputs": [],
   "source": [
    "RFM_df3= RFM_df.copy()"
   ]
  },
  {
   "cell_type": "code",
   "execution_count": 31,
   "metadata": {},
   "outputs": [
    {
     "name": "stdout",
     "output_type": "stream",
     "text": [
      "<class 'pandas.core.frame.DataFrame'>\n",
      "Index: 9230 entries, 0 to 9332\n",
      "Data columns (total 4 columns):\n",
      " #   Column              Non-Null Count  Dtype  \n",
      "---  ------              --------------  -----  \n",
      " 0   customer_unique_id  9230 non-null   object \n",
      " 1   Recency             9230 non-null   int64  \n",
      " 2   Frequency           9230 non-null   int64  \n",
      " 3   Monetary            9230 non-null   float64\n",
      "dtypes: float64(1), int64(2), object(1)\n",
      "memory usage: 360.5+ KB\n"
     ]
    }
   ],
   "source": [
    "RFM_df3.info()"
   ]
  },
  {
   "cell_type": "code",
   "execution_count": 32,
   "metadata": {},
   "outputs": [],
   "source": [
    "RFM_df3.drop(['customer_unique_id'], axis=1, inplace=True, errors='ignore')\n"
   ]
  },
  {
   "cell_type": "markdown",
   "metadata": {},
   "source": [
    "Kiểm tra độ lệch (skewness)"
   ]
  },
  {
   "cell_type": "code",
   "execution_count": 33,
   "metadata": {},
   "outputs": [],
   "source": [
    "#check if data is skewed\n",
    "from scipy import stats #library\n",
    "def check_skew(df, column):\n",
    "    skew = stats.skew(df[column])\n",
    "    skewtest = stats.skewtest(df[column])\n",
    "    plt.title('Distribution of ' + column)\n",
    "    sns.distplot(df[column])\n",
    "    plt.show()\n",
    "    print(\"{}'s: Skew: {}, : {}\".format(column, skew, skewtest))\n",
    "    return"
   ]
  },
  {
   "cell_type": "code",
   "execution_count": 34,
   "metadata": {},
   "outputs": [
    {
     "data": {
      "image/png": "[encoded data removed]",
      "text/plain": [
       "<Figure size 640x480 with 1 Axes>"
      ]
     },
     "metadata": {},
     "output_type": "display_data"
    },
    {
     "name": "stdout",
     "output_type": "stream",
     "text": [
      "Recency's: Skew: 0.1619372871764706, : SkewtestResult(statistic=6.315734680036571, pvalue=2.6888101178853556e-10)\n"
     ]
    },
    {
     "data": {
      "image/png": "[encoded data removed]",
      "text/plain": [
       "<Figure size 640x480 with 1 Axes>"
      ]
     },
     "metadata": {},
     "output_type": "display_data"
    },
    {
     "name": "stdout",
     "output_type": "stream",
     "text": [
      "Frequency's: Skew: 10.349645263420909, : SkewtestResult(statistic=103.75024140372159, pvalue=0.0)\n"
     ]
    },
    {
     "data": {
      "image/png": "[encoded data removed]",
      "text/plain": [
       "<Figure size 640x480 with 1 Axes>"
      ]
     },
     "metadata": {},
     "output_type": "display_data"
    },
    {
     "name": "stdout",
     "output_type": "stream",
     "text": [
      "Monetary's: Skew: 3.251446417027698, : SkewtestResult(statistic=67.04111980675697, pvalue=0.0)\n"
     ]
    }
   ],
   "source": [
    "for col in RFM_df3.columns:\n",
    "    check_skew(RFM_df3, col)"
   ]
  },
  {
   "cell_type": "markdown",
   "metadata": {},
   "source": [
    "Log Transformation: Xử lý dữ liệu lệch phải."
   ]
  },
  {
   "cell_type": "code",
   "execution_count": 35,
   "metadata": {},
   "outputs": [],
   "source": [
    "RFM_log= RFM_df3.copy()\n",
    "for i in RFM_log.columns[1:]:\n",
    "    RFM_log[i] = np.log10(RFM_log[i])"
   ]
  },
  {
   "cell_type": "code",
   "execution_count": 36,
   "metadata": {},
   "outputs": [
    {
     "data": {
      "text/html": [
       "<div>\n",
       "<style scoped>\n",
       "    .dataframe tbody tr th:only-of-type {\n",
       "        vertical-align: middle;\n",
       "    }\n",
       "\n",
       "    .dataframe tbody tr th {\n",
       "        vertical-align: top;\n",
       "    }\n",
       "\n",
       "    .dataframe thead th {\n",
       "        text-align: right;\n",
       "    }\n",
       "</style>\n",
       "<table border=\"1\" class=\"dataframe\">\n",
       "  <thead>\n",
       "    <tr style=\"text-align: right;\">\n",
       "      <th></th>\n",
       "      <th>Recency</th>\n",
       "      <th>Frequency</th>\n",
       "      <th>Monetary</th>\n",
       "    </tr>\n",
       "  </thead>\n",
       "  <tbody>\n",
       "    <tr>\n",
       "      <th>0</th>\n",
       "      <td>113</td>\n",
       "      <td>0.0</td>\n",
       "      <td>2.151982</td>\n",
       "    </tr>\n",
       "    <tr>\n",
       "      <th>1</th>\n",
       "      <td>10</td>\n",
       "      <td>0.0</td>\n",
       "      <td>1.443263</td>\n",
       "    </tr>\n",
       "    <tr>\n",
       "      <th>2</th>\n",
       "      <td>34</td>\n",
       "      <td>0.0</td>\n",
       "      <td>2.086609</td>\n",
       "    </tr>\n",
       "    <tr>\n",
       "      <th>3</th>\n",
       "      <td>6</td>\n",
       "      <td>0.0</td>\n",
       "      <td>2.518014</td>\n",
       "    </tr>\n",
       "    <tr>\n",
       "      <th>4</th>\n",
       "      <td>122</td>\n",
       "      <td>0.0</td>\n",
       "      <td>2.295061</td>\n",
       "    </tr>\n",
       "    <tr>\n",
       "      <th>...</th>\n",
       "      <td>...</td>\n",
       "      <td>...</td>\n",
       "      <td>...</td>\n",
       "    </tr>\n",
       "    <tr>\n",
       "      <th>9328</th>\n",
       "      <td>65</td>\n",
       "      <td>0.0</td>\n",
       "      <td>1.968996</td>\n",
       "    </tr>\n",
       "    <tr>\n",
       "      <th>9329</th>\n",
       "      <td>128</td>\n",
       "      <td>0.0</td>\n",
       "      <td>1.861893</td>\n",
       "    </tr>\n",
       "    <tr>\n",
       "      <th>9330</th>\n",
       "      <td>133</td>\n",
       "      <td>0.0</td>\n",
       "      <td>2.302980</td>\n",
       "    </tr>\n",
       "    <tr>\n",
       "      <th>9331</th>\n",
       "      <td>42</td>\n",
       "      <td>0.0</td>\n",
       "      <td>1.916507</td>\n",
       "    </tr>\n",
       "    <tr>\n",
       "      <th>9332</th>\n",
       "      <td>120</td>\n",
       "      <td>0.0</td>\n",
       "      <td>2.126099</td>\n",
       "    </tr>\n",
       "  </tbody>\n",
       "</table>\n",
       "<p>9230 rows × 3 columns</p>\n",
       "</div>"
      ],
      "text/plain": [
       "      Recency  Frequency  Monetary\n",
       "0         113        0.0  2.151982\n",
       "1          10        0.0  1.443263\n",
       "2          34        0.0  2.086609\n",
       "3           6        0.0  2.518014\n",
       "4         122        0.0  2.295061\n",
       "...       ...        ...       ...\n",
       "9328       65        0.0  1.968996\n",
       "9329      128        0.0  1.861893\n",
       "9330      133        0.0  2.302980\n",
       "9331       42        0.0  1.916507\n",
       "9332      120        0.0  2.126099\n",
       "\n",
       "[9230 rows x 3 columns]"
      ]
     },
     "execution_count": 36,
     "metadata": {},
     "output_type": "execute_result"
    }
   ],
   "source": [
    "RFM_log\n"
   ]
  },
  {
   "cell_type": "code",
   "execution_count": 37,
   "metadata": {},
   "outputs": [
    {
     "data": {
      "image/png": "[encoded data removed]",
      "text/plain": [
       "<Figure size 640x480 with 1 Axes>"
      ]
     },
     "metadata": {},
     "output_type": "display_data"
    },
    {
     "name": "stdout",
     "output_type": "stream",
     "text": [
      "Recency's: Skew: 0.1619372871764706, : SkewtestResult(statistic=6.315734680036571, pvalue=2.6888101178853556e-10)\n"
     ]
    },
    {
     "data": {
      "image/png": "[encoded data removed]",
      "text/plain": [
       "<Figure size 640x480 with 1 Axes>"
      ]
     },
     "metadata": {},
     "output_type": "display_data"
    },
    {
     "name": "stdout",
     "output_type": "stream",
     "text": [
      "Frequency's: Skew: 9.799276686733617, : SkewtestResult(statistic=102.0025147527467, pvalue=0.0)\n"
     ]
    },
    {
     "data": {
      "image/png": "[encoded data removed]",
      "text/plain": [
       "<Figure size 640x480 with 1 Axes>"
      ]
     },
     "metadata": {},
     "output_type": "display_data"
    },
    {
     "name": "stdout",
     "output_type": "stream",
     "text": [
      "Monetary's: Skew: 0.47086296920199394, : SkewtestResult(statistic=17.58891351121991, pvalue=2.9956623488708254e-69)\n"
     ]
    }
   ],
   "source": [
    "for col in RFM_log.columns:\n",
    "    check_skew(RFM_log, col)"
   ]
  },
  {
   "cell_type": "markdown",
   "metadata": {},
   "source": [
    "StandardScaler"
   ]
  },
  {
   "cell_type": "code",
   "execution_count": 38,
   "metadata": {},
   "outputs": [
    {
     "data": {
      "text/html": [
       "<div>\n",
       "<style scoped>\n",
       "    .dataframe tbody tr th:only-of-type {\n",
       "        vertical-align: middle;\n",
       "    }\n",
       "\n",
       "    .dataframe tbody tr th {\n",
       "        vertical-align: top;\n",
       "    }\n",
       "\n",
       "    .dataframe thead th {\n",
       "        text-align: right;\n",
       "    }\n",
       "</style>\n",
       "<table border=\"1\" class=\"dataframe\">\n",
       "  <thead>\n",
       "    <tr style=\"text-align: right;\">\n",
       "      <th></th>\n",
       "      <th>recency</th>\n",
       "      <th>frequency</th>\n",
       "      <th>monetary</th>\n",
       "    </tr>\n",
       "  </thead>\n",
       "  <tbody>\n",
       "    <tr>\n",
       "      <th>0</th>\n",
       "      <td>0.911949</td>\n",
       "      <td>-0.10293</td>\n",
       "      <td>0.110615</td>\n",
       "    </tr>\n",
       "    <tr>\n",
       "      <th>1</th>\n",
       "      <td>-1.537370</td>\n",
       "      <td>-0.10293</td>\n",
       "      <td>-1.706436</td>\n",
       "    </tr>\n",
       "    <tr>\n",
       "      <th>2</th>\n",
       "      <td>-0.966655</td>\n",
       "      <td>-0.10293</td>\n",
       "      <td>-0.056993</td>\n",
       "    </tr>\n",
       "    <tr>\n",
       "      <th>3</th>\n",
       "      <td>-1.632489</td>\n",
       "      <td>-0.10293</td>\n",
       "      <td>1.049064</td>\n",
       "    </tr>\n",
       "    <tr>\n",
       "      <th>4</th>\n",
       "      <td>1.125967</td>\n",
       "      <td>-0.10293</td>\n",
       "      <td>0.477447</td>\n",
       "    </tr>\n",
       "  </tbody>\n",
       "</table>\n",
       "</div>"
      ],
      "text/plain": [
       "    recency  frequency  monetary\n",
       "0  0.911949   -0.10293  0.110615\n",
       "1 -1.537370   -0.10293 -1.706436\n",
       "2 -0.966655   -0.10293 -0.056993\n",
       "3 -1.632489   -0.10293  1.049064\n",
       "4  1.125967   -0.10293  0.477447"
      ]
     },
     "execution_count": 38,
     "metadata": {},
     "output_type": "execute_result"
    }
   ],
   "source": [
    "from sklearn.preprocessing import StandardScaler\n",
    "scaler= StandardScaler()\n",
    "\n",
    "RFM_log_scaled= scaler.fit_transform(RFM_log)\n",
    "RFM_log_scaled_df= pd.DataFrame(RFM_log_scaled)\n",
    "RFM_log_scaled_df.columns = ['recency', 'frequency', 'monetary']\n",
    "RFM_log_scaled_df.head()"
   ]
  },
  {
   "cell_type": "code",
   "execution_count": 39,
   "metadata": {},
   "outputs": [],
   "source": [
    "from sklearn.cluster import KMeans"
   ]
  },
  {
   "cell_type": "code",
   "execution_count": 40,
   "metadata": {},
   "outputs": [
    {
     "data": {
      "text/html": [
       "<style>#sk-container-id-1 {\n",
       "  /* Definition of color scheme common for light and dark mode */\n",
       "  --sklearn-color-text: black;\n",
       "  --sklearn-color-line: gray;\n",
       "  /* Definition of color scheme for unfitted estimators */\n",
       "  --sklearn-color-unfitted-level-0: #fff5e6;\n",
       "  --sklearn-color-unfitted-level-1: #f6e4d2;\n",
       "  --sklearn-color-unfitted-level-2: #ffe0b3;\n",
       "  --sklearn-color-unfitted-level-3: chocolate;\n",
       "  /* Definition of color scheme for fitted estimators */\n",
       "  --sklearn-color-fitted-level-0: #f0f8ff;\n",
       "  --sklearn-color-fitted-level-1: #d4ebff;\n",
       "  --sklearn-color-fitted-level-2: #b3dbfd;\n",
       "  --sklearn-color-fitted-level-3: cornflowerblue;\n",
       "\n",
       "  /* Specific color for light theme */\n",
       "  --sklearn-color-text-on-default-background: var(--sg-text-color, var(--theme-code-foreground, var(--jp-content-font-color1, black)));\n",
       "  --sklearn-color-background: var(--sg-background-color, var(--theme-background, var(--jp-layout-color0, white)));\n",
       "  --sklearn-color-border-box: var(--sg-text-color, var(--theme-code-foreground, var(--jp-content-font-color1, black)));\n",
       "  --sklearn-color-icon: #696969;\n",
       "\n",
       "  @media (prefers-color-scheme: dark) {\n",
       "    /* Redefinition of color scheme for dark theme */\n",
       "    --sklearn-color-text-on-default-background: var(--sg-text-color, var(--theme-code-foreground, var(--jp-content-font-color1, white)));\n",
       "    --sklearn-color-background: var(--sg-background-color, var(--theme-background, var(--jp-layout-color0, #111)));\n",
       "    --sklearn-color-border-box: var(--sg-text-color, var(--theme-code-foreground, var(--jp-content-font-color1, white)));\n",
       "    --sklearn-color-icon: #878787;\n",
       "  }\n",
       "}\n",
       "\n",
       "#sk-container-id-1 {\n",
       "  color: var(--sklearn-color-text);\n",
       "}\n",
       "\n",
       "#sk-container-id-1 pre {\n",
       "  padding: 0;\n",
       "}\n",
       "\n",
       "#sk-container-id-1 input.sk-hidden--visually {\n",
       "  border: 0;\n",
       "  clip: rect(1px 1px 1px 1px);\n",
       "  clip: rect(1px, 1px, 1px, 1px);\n",
       "  height: 1px;\n",
       "  margin: -1px;\n",
       "  overflow: hidden;\n",
       "  padding: 0;\n",
       "  position: absolute;\n",
       "  width: 1px;\n",
       "}\n",
       "\n",
       "#sk-container-id-1 div.sk-dashed-wrapped {\n",
       "  border: 1px dashed var(--sklearn-color-line);\n",
       "  margin: 0 0.4em 0.5em 0.4em;\n",
       "  box-sizing: border-box;\n",
       "  padding-bottom: 0.4em;\n",
       "  background-color: var(--sklearn-color-background);\n",
       "}\n",
       "\n",
       "#sk-container-id-1 div.sk-container {\n",
       "  /* jupyter's `normalize.less` sets `[hidden] { display: none; }`\n",
       "     but bootstrap.min.css set `[hidden] { display: none !important; }`\n",
       "     so we also need the `!important` here to be able to override the\n",
       "     default hidden behavior on the sphinx rendered scikit-learn.org.\n",
       "     See: https://github.com/scikit-learn/scikit-learn/issues/21755 */\n",
       "  display: inline-block !important;\n",
       "  position: relative;\n",
       "}\n",
       "\n",
       "#sk-container-id-1 div.sk-text-repr-fallback {\n",
       "  display: none;\n",
       "}\n",
       "\n",
       "div.sk-parallel-item,\n",
       "div.sk-serial,\n",
       "div.sk-item {\n",
       "  /* draw centered vertical line to link estimators */\n",
       "  background-image: linear-gradient(var(--sklearn-color-text-on-default-background), var(--sklearn-color-text-on-default-background));\n",
       "  background-size: 2px 100%;\n",
       "  background-repeat: no-repeat;\n",
       "  background-position: center center;\n",
       "}\n",
       "\n",
       "/* Parallel-specific style estimator block */\n",
       "\n",
       "#sk-container-id-1 div.sk-parallel-item::after {\n",
       "  content: \"\";\n",
       "  width: 100%;\n",
       "  border-bottom: 2px solid var(--sklearn-color-text-on-default-background);\n",
       "  flex-grow: 1;\n",
       "}\n",
       "\n",
       "#sk-container-id-1 div.sk-parallel {\n",
       "  display: flex;\n",
       "  align-items: stretch;\n",
       "  justify-content: center;\n",
       "  background-color: var(--sklearn-color-background);\n",
       "  position: relative;\n",
       "}\n",
       "\n",
       "#sk-container-id-1 div.sk-parallel-item {\n",
       "  display: flex;\n",
       "  flex-direction: column;\n",
       "}\n",
       "\n",
       "#sk-container-id-1 div.sk-parallel-item:first-child::after {\n",
       "  align-self: flex-end;\n",
       "  width: 50%;\n",
       "}\n",
       "\n",
       "#sk-container-id-1 div.sk-parallel-item:last-child::after {\n",
       "  align-self: flex-start;\n",
       "  width: 50%;\n",
       "}\n",
       "\n",
       "#sk-container-id-1 div.sk-parallel-item:only-child::after {\n",
       "  width: 0;\n",
       "}\n",
       "\n",
       "/* Serial-specific style estimator block */\n",
       "\n",
       "#sk-container-id-1 div.sk-serial {\n",
       "  display: flex;\n",
       "  flex-direction: column;\n",
       "  align-items: center;\n",
       "  background-color: var(--sklearn-color-background);\n",
       "  padding-right: 1em;\n",
       "  padding-left: 1em;\n",
       "}\n",
       "\n",
       "\n",
       "/* Toggleable style: style used for estimator/Pipeline/ColumnTransformer box that is\n",
       "clickable and can be expanded/collapsed.\n",
       "- Pipeline and ColumnTransformer use this feature and define the default style\n",
       "- Estimators will overwrite some part of the style using the `sk-estimator` class\n",
       "*/\n",
       "\n",
       "/* Pipeline and ColumnTransformer style (default) */\n",
       "\n",
       "#sk-container-id-1 div.sk-toggleable {\n",
       "  /* Default theme specific background. It is overwritten whether we have a\n",
       "  specific estimator or a Pipeline/ColumnTransformer */\n",
       "  background-color: var(--sklearn-color-background);\n",
       "}\n",
       "\n",
       "/* Toggleable label */\n",
       "#sk-container-id-1 label.sk-toggleable__label {\n",
       "  cursor: pointer;\n",
       "  display: block;\n",
       "  width: 100%;\n",
       "  margin-bottom: 0;\n",
       "  padding: 0.5em;\n",
       "  box-sizing: border-box;\n",
       "  text-align: center;\n",
       "}\n",
       "\n",
       "#sk-container-id-1 label.sk-toggleable__label-arrow:before {\n",
       "  /* Arrow on the left of the label */\n",
       "  content: \"▸\";\n",
       "  float: left;\n",
       "  margin-right: 0.25em;\n",
       "  color: var(--sklearn-color-icon);\n",
       "}\n",
       "\n",
       "#sk-container-id-1 label.sk-toggleable__label-arrow:hover:before {\n",
       "  color: var(--sklearn-color-text);\n",
       "}\n",
       "\n",
       "/* Toggleable content - dropdown */\n",
       "\n",
       "#sk-container-id-1 div.sk-toggleable__content {\n",
       "  max-height: 0;\n",
       "  max-width: 0;\n",
       "  overflow: hidden;\n",
       "  text-align: left;\n",
       "  /* unfitted */\n",
       "  background-color: var(--sklearn-color-unfitted-level-0);\n",
       "}\n",
       "\n",
       "#sk-container-id-1 div.sk-toggleable__content.fitted {\n",
       "  /* fitted */\n",
       "  background-color: var(--sklearn-color-fitted-level-0);\n",
       "}\n",
       "\n",
       "#sk-container-id-1 div.sk-toggleable__content pre {\n",
       "  margin: 0.2em;\n",
       "  border-radius: 0.25em;\n",
       "  color: var(--sklearn-color-text);\n",
       "  /* unfitted */\n",
       "  background-color: var(--sklearn-color-unfitted-level-0);\n",
       "}\n",
       "\n",
       "#sk-container-id-1 div.sk-toggleable__content.fitted pre {\n",
       "  /* unfitted */\n",
       "  background-color: var(--sklearn-color-fitted-level-0);\n",
       "}\n",
       "\n",
       "#sk-container-id-1 input.sk-toggleable__control:checked~div.sk-toggleable__content {\n",
       "  /* Expand drop-down */\n",
       "  max-height: 200px;\n",
       "  max-width: 100%;\n",
       "  overflow: auto;\n",
       "}\n",
       "\n",
       "#sk-container-id-1 input.sk-toggleable__control:checked~label.sk-toggleable__label-arrow:before {\n",
       "  content: \"▾\";\n",
       "}\n",
       "\n",
       "/* Pipeline/ColumnTransformer-specific style */\n",
       "\n",
       "#sk-container-id-1 div.sk-label input.sk-toggleable__control:checked~label.sk-toggleable__label {\n",
       "  color: var(--sklearn-color-text);\n",
       "  background-color: var(--sklearn-color-unfitted-level-2);\n",
       "}\n",
       "\n",
       "#sk-container-id-1 div.sk-label.fitted input.sk-toggleable__control:checked~label.sk-toggleable__label {\n",
       "  background-color: var(--sklearn-color-fitted-level-2);\n",
       "}\n",
       "\n",
       "/* Estimator-specific style */\n",
       "\n",
       "/* Colorize estimator box */\n",
       "#sk-container-id-1 div.sk-estimator input.sk-toggleable__control:checked~label.sk-toggleable__label {\n",
       "  /* unfitted */\n",
       "  background-color: var(--sklearn-color-unfitted-level-2);\n",
       "}\n",
       "\n",
       "#sk-container-id-1 div.sk-estimator.fitted input.sk-toggleable__control:checked~label.sk-toggleable__label {\n",
       "  /* fitted */\n",
       "  background-color: var(--sklearn-color-fitted-level-2);\n",
       "}\n",
       "\n",
       "#sk-container-id-1 div.sk-label label.sk-toggleable__label,\n",
       "#sk-container-id-1 div.sk-label label {\n",
       "  /* The background is the default theme color */\n",
       "  color: var(--sklearn-color-text-on-default-background);\n",
       "}\n",
       "\n",
       "/* On hover, darken the color of the background */\n",
       "#sk-container-id-1 div.sk-label:hover label.sk-toggleable__label {\n",
       "  color: var(--sklearn-color-text);\n",
       "  background-color: var(--sklearn-color-unfitted-level-2);\n",
       "}\n",
       "\n",
       "/* Label box, darken color on hover, fitted */\n",
       "#sk-container-id-1 div.sk-label.fitted:hover label.sk-toggleable__label.fitted {\n",
       "  color: var(--sklearn-color-text);\n",
       "  background-color: var(--sklearn-color-fitted-level-2);\n",
       "}\n",
       "\n",
       "/* Estimator label */\n",
       "\n",
       "#sk-container-id-1 div.sk-label label {\n",
       "  font-family: monospace;\n",
       "  font-weight: bold;\n",
       "  display: inline-block;\n",
       "  line-height: 1.2em;\n",
       "}\n",
       "\n",
       "#sk-container-id-1 div.sk-label-container {\n",
       "  text-align: center;\n",
       "}\n",
       "\n",
       "/* Estimator-specific */\n",
       "#sk-container-id-1 div.sk-estimator {\n",
       "  font-family: monospace;\n",
       "  border: 1px dotted var(--sklearn-color-border-box);\n",
       "  border-radius: 0.25em;\n",
       "  box-sizing: border-box;\n",
       "  margin-bottom: 0.5em;\n",
       "  /* unfitted */\n",
       "  background-color: var(--sklearn-color-unfitted-level-0);\n",
       "}\n",
       "\n",
       "#sk-container-id-1 div.sk-estimator.fitted {\n",
       "  /* fitted */\n",
       "  background-color: var(--sklearn-color-fitted-level-0);\n",
       "}\n",
       "\n",
       "/* on hover */\n",
       "#sk-container-id-1 div.sk-estimator:hover {\n",
       "  /* unfitted */\n",
       "  background-color: var(--sklearn-color-unfitted-level-2);\n",
       "}\n",
       "\n",
       "#sk-container-id-1 div.sk-estimator.fitted:hover {\n",
       "  /* fitted */\n",
       "  background-color: var(--sklearn-color-fitted-level-2);\n",
       "}\n",
       "\n",
       "/* Specification for estimator info (e.g. \"i\" and \"?\") */\n",
       "\n",
       "/* Common style for \"i\" and \"?\" */\n",
       "\n",
       ".sk-estimator-doc-link,\n",
       "a:link.sk-estimator-doc-link,\n",
       "a:visited.sk-estimator-doc-link {\n",
       "  float: right;\n",
       "  font-size: smaller;\n",
       "  line-height: 1em;\n",
       "  font-family: monospace;\n",
       "  background-color: var(--sklearn-color-background);\n",
       "  border-radius: 1em;\n",
       "  height: 1em;\n",
       "  width: 1em;\n",
       "  text-decoration: none !important;\n",
       "  margin-left: 1ex;\n",
       "  /* unfitted */\n",
       "  border: var(--sklearn-color-unfitted-level-1) 1pt solid;\n",
       "  color: var(--sklearn-color-unfitted-level-1);\n",
       "}\n",
       "\n",
       ".sk-estimator-doc-link.fitted,\n",
       "a:link.sk-estimator-doc-link.fitted,\n",
       "a:visited.sk-estimator-doc-link.fitted {\n",
       "  /* fitted */\n",
       "  border: var(--sklearn-color-fitted-level-1) 1pt solid;\n",
       "  color: var(--sklearn-color-fitted-level-1);\n",
       "}\n",
       "\n",
       "/* On hover */\n",
       "div.sk-estimator:hover .sk-estimator-doc-link:hover,\n",
       ".sk-estimator-doc-link:hover,\n",
       "div.sk-label-container:hover .sk-estimator-doc-link:hover,\n",
       ".sk-estimator-doc-link:hover {\n",
       "  /* unfitted */\n",
       "  background-color: var(--sklearn-color-unfitted-level-3);\n",
       "  color: var(--sklearn-color-background);\n",
       "  text-decoration: none;\n",
       "}\n",
       "\n",
       "div.sk-estimator.fitted:hover .sk-estimator-doc-link.fitted:hover,\n",
       ".sk-estimator-doc-link.fitted:hover,\n",
       "div.sk-label-container:hover .sk-estimator-doc-link.fitted:hover,\n",
       ".sk-estimator-doc-link.fitted:hover {\n",
       "  /* fitted */\n",
       "  background-color: var(--sklearn-color-fitted-level-3);\n",
       "  color: var(--sklearn-color-background);\n",
       "  text-decoration: none;\n",
       "}\n",
       "\n",
       "/* Span, style for the box shown on hovering the info icon */\n",
       ".sk-estimator-doc-link span {\n",
       "  display: none;\n",
       "  z-index: 9999;\n",
       "  position: relative;\n",
       "  font-weight: normal;\n",
       "  right: .2ex;\n",
       "  padding: .5ex;\n",
       "  margin: .5ex;\n",
       "  width: min-content;\n",
       "  min-width: 20ex;\n",
       "  max-width: 50ex;\n",
       "  color: var(--sklearn-color-text);\n",
       "  box-shadow: 2pt 2pt 4pt #999;\n",
       "  /* unfitted */\n",
       "  background: var(--sklearn-color-unfitted-level-0);\n",
       "  border: .5pt solid var(--sklearn-color-unfitted-level-3);\n",
       "}\n",
       "\n",
       ".sk-estimator-doc-link.fitted span {\n",
       "  /* fitted */\n",
       "  background: var(--sklearn-color-fitted-level-0);\n",
       "  border: var(--sklearn-color-fitted-level-3);\n",
       "}\n",
       "\n",
       ".sk-estimator-doc-link:hover span {\n",
       "  display: block;\n",
       "}\n",
       "\n",
       "/* \"?\"-specific style due to the `<a>` HTML tag */\n",
       "\n",
       "#sk-container-id-1 a.estimator_doc_link {\n",
       "  float: right;\n",
       "  font-size: 1rem;\n",
       "  line-height: 1em;\n",
       "  font-family: monospace;\n",
       "  background-color: var(--sklearn-color-background);\n",
       "  border-radius: 1rem;\n",
       "  height: 1rem;\n",
       "  width: 1rem;\n",
       "  text-decoration: none;\n",
       "  /* unfitted */\n",
       "  color: var(--sklearn-color-unfitted-level-1);\n",
       "  border: var(--sklearn-color-unfitted-level-1) 1pt solid;\n",
       "}\n",
       "\n",
       "#sk-container-id-1 a.estimator_doc_link.fitted {\n",
       "  /* fitted */\n",
       "  border: var(--sklearn-color-fitted-level-1) 1pt solid;\n",
       "  color: var(--sklearn-color-fitted-level-1);\n",
       "}\n",
       "\n",
       "/* On hover */\n",
       "#sk-container-id-1 a.estimator_doc_link:hover {\n",
       "  /* unfitted */\n",
       "  background-color: var(--sklearn-color-unfitted-level-3);\n",
       "  color: var(--sklearn-color-background);\n",
       "  text-decoration: none;\n",
       "}\n",
       "\n",
       "#sk-container-id-1 a.estimator_doc_link.fitted:hover {\n",
       "  /* fitted */\n",
       "  background-color: var(--sklearn-color-fitted-level-3);\n",
       "}\n",
       "</style><div id=\"sk-container-id-1\" class=\"sk-top-container\"><div class=\"sk-text-repr-fallback\"><pre>KMeans(n_clusters=4)</pre><b>In a Jupyter environment, please rerun this cell to show the HTML representation or trust the notebook. <br />On GitHub, the HTML representation is unable to render, please try loading this page with nbviewer.org.</b></div><div class=\"sk-container\" hidden><div class=\"sk-item\"><div class=\"sk-estimator fitted sk-toggleable\"><input class=\"sk-toggleable__control sk-hidden--visually\" id=\"sk-estimator-id-1\" type=\"checkbox\" checked><label for=\"sk-estimator-id-1\" class=\"sk-toggleable__label fitted sk-toggleable__label-arrow fitted\">&nbsp;&nbsp;KMeans<a class=\"sk-estimator-doc-link fitted\" rel=\"noreferrer\" target=\"_blank\" href=\"https://scikit-learn.org/1.4/modules/generated/sklearn.cluster.KMeans.html\">?<span>Documentation for KMeans</span></a><span class=\"sk-estimator-doc-link fitted\">i<span>Fitted</span></span></label><div class=\"sk-toggleable__content fitted\"><pre>KMeans(n_clusters=4)</pre></div> </div></div></div></div>"
      ],
      "text/plain": [
       "KMeans(n_clusters=4)"
      ]
     },
     "execution_count": 40,
     "metadata": {},
     "output_type": "execute_result"
    }
   ],
   "source": [
    "kmeans= KMeans(n_clusters=4)\n",
    "kmeans.fit(RFM_log_scaled_df)"
   ]
  },
  {
   "cell_type": "code",
   "execution_count": 41,
   "metadata": {},
   "outputs": [
    {
     "data": {
      "text/html": [
       "<div>\n",
       "<style scoped>\n",
       "    .dataframe tbody tr th:only-of-type {\n",
       "        vertical-align: middle;\n",
       "    }\n",
       "\n",
       "    .dataframe tbody tr th {\n",
       "        vertical-align: top;\n",
       "    }\n",
       "\n",
       "    .dataframe thead th {\n",
       "        text-align: right;\n",
       "    }\n",
       "</style>\n",
       "<table border=\"1\" class=\"dataframe\">\n",
       "  <thead>\n",
       "    <tr style=\"text-align: right;\">\n",
       "      <th></th>\n",
       "      <th>recency</th>\n",
       "      <th>frequency</th>\n",
       "      <th>monetary</th>\n",
       "      <th>Cluster</th>\n",
       "    </tr>\n",
       "  </thead>\n",
       "  <tbody>\n",
       "    <tr>\n",
       "      <th>0</th>\n",
       "      <td>0.911949</td>\n",
       "      <td>-0.10293</td>\n",
       "      <td>0.110615</td>\n",
       "      <td>2</td>\n",
       "    </tr>\n",
       "    <tr>\n",
       "      <th>1</th>\n",
       "      <td>-1.537370</td>\n",
       "      <td>-0.10293</td>\n",
       "      <td>-1.706436</td>\n",
       "      <td>0</td>\n",
       "    </tr>\n",
       "    <tr>\n",
       "      <th>2</th>\n",
       "      <td>-0.966655</td>\n",
       "      <td>-0.10293</td>\n",
       "      <td>-0.056993</td>\n",
       "      <td>0</td>\n",
       "    </tr>\n",
       "    <tr>\n",
       "      <th>3</th>\n",
       "      <td>-1.632489</td>\n",
       "      <td>-0.10293</td>\n",
       "      <td>1.049064</td>\n",
       "      <td>0</td>\n",
       "    </tr>\n",
       "    <tr>\n",
       "      <th>4</th>\n",
       "      <td>1.125967</td>\n",
       "      <td>-0.10293</td>\n",
       "      <td>0.477447</td>\n",
       "      <td>2</td>\n",
       "    </tr>\n",
       "  </tbody>\n",
       "</table>\n",
       "</div>"
      ],
      "text/plain": [
       "    recency  frequency  monetary  Cluster\n",
       "0  0.911949   -0.10293  0.110615        2\n",
       "1 -1.537370   -0.10293 -1.706436        0\n",
       "2 -0.966655   -0.10293 -0.056993        0\n",
       "3 -1.632489   -0.10293  1.049064        0\n",
       "4  1.125967   -0.10293  0.477447        2"
      ]
     },
     "execution_count": 41,
     "metadata": {},
     "output_type": "execute_result"
    }
   ],
   "source": [
    "RFM_log_scaled_df['Cluster']= kmeans.labels_\n",
    "RFM_log_scaled_df.head()"
   ]
  },
  {
   "cell_type": "code",
   "execution_count": null,
   "metadata": {},
   "outputs": [],
   "source": []
  },
  {
   "cell_type": "code",
   "execution_count": 51,
   "metadata": {},
   "outputs": [],
   "source": [
    "RFM_log_scaled_df_culster = RFM_log_scaled_df['Cluster'].value_counts()"
   ]
  },
  {
   "cell_type": "code",
   "execution_count": 52,
   "metadata": {},
   "outputs": [
    {
     "data": {
      "text/plain": [
       "Cluster\n",
       "0    3674\n",
       "2    3551\n",
       "3    1907\n",
       "1      98\n",
       "Name: count, dtype: int64"
      ]
     },
     "execution_count": 52,
     "metadata": {},
     "output_type": "execute_result"
    }
   ],
   "source": [
    "RFM_log_scaled_df['Cluster'].value_counts()"
   ]
  },
  {
   "cell_type": "code",
   "execution_count": 45,
   "metadata": {},
   "outputs": [
    {
     "data": {
      "text/plain": [
       "<BarContainer object of 4 artists>"
      ]
     },
     "execution_count": 45,
     "metadata": {},
     "output_type": "execute_result"
    },
    {
     "data": {
      "image/png": "[encoded data removed]",
      "text/plain": [
       "<Figure size 1000x600 with 1 Axes>"
      ]
     },
     "metadata": {},
     "output_type": "display_data"
    }
   ],
   "source": [
    "plt.figure(figsize=(10,6))\n",
    "plt.bar(RFM_log_scaled_df_culster.index, RFM_log_scaled_df_culster.values, color='skyblue')"
   ]
  },
  {
   "cell_type": "markdown",
   "metadata": {},
   "source": [
    "Khách hàng VIP (Champions)\n",
    "Đặc điểm: Mua gần đây, thường xuyên, chi tiêu cao.\n",
    "Hành động: Duy trì, ưu đãi đặc biệt.\n",
    "Khách hàng Tiềm năng (Potential Loyalists)\n",
    "Đặc điểm: Mua gần đây, tần suất và chi tiêu trung bình.\n",
    "Hành động: Khuyến khích mua thường xuyên hơn.\n",
    "Nguy cơ mất khách (At Risk)\n",
    "Đặc điểm: Đã từng mua nhiều nhưng lâu không quay lại.\n",
    "Hành động: Gửi ưu đãi, khơi gợi lại sự quan tâm.\n",
    "Khách hàng ít giá trị (Low Value)\n",
    "Đặc điểm: Lâu không mua, ít chi tiêu, tần suất thấp.\n",
    "Hành động: Đánh giá tiềm năng, chạy quảng cáo chi phí thấp"
   ]
  },
  {
   "cell_type": "code",
   "execution_count": 42,
   "metadata": {},
   "outputs": [
    {
     "data": {
      "image/png": "[encoded data removed]",
      "text/plain": [
       "<Figure size 1000x700 with 2 Axes>"
      ]
     },
     "metadata": {},
     "output_type": "display_data"
    }
   ],
   "source": [
    "from mpl_toolkits.mplot3d import Axes3D\n",
    "import matplotlib.pyplot as plt\n",
    "\n",
    "# Tạo figure và subplot 3D\n",
    "fig = plt.figure(figsize=(10, 7))\n",
    "ax = fig.add_subplot(111, projection='3d')\n",
    "\n",
    "# Lấy giá trị của các cột cần plot (Recency, Frequency, Monetary)\n",
    "x = RFM_log_scaled_df['recency']\n",
    "y = RFM_log_scaled_df['frequency']\n",
    "z = RFM_log_scaled_df['monetary']\n",
    "clusters = RFM_log_scaled_df['Cluster']  # Nhãn cụm\n",
    "\n",
    "# Vẽ scatter plot 3D, sử dụng màu sắc để phân cụm\n",
    "scatter = ax.scatter(x, y, z, c=clusters, cmap='viridis', s=50, alpha=0.8)\n",
    "\n",
    "# Gắn nhãn trục\n",
    "ax.set_xlabel('Recency')\n",
    "ax.set_ylabel('Frequency')\n",
    "ax.set_zlabel('Monetary')\n",
    "\n",
    "# Thêm tiêu đề\n",
    "plt.title('3D Cluster Visualization (K-Means)')\n",
    "plt.colorbar(scatter, ax=ax, label='Cluster')\n",
    "plt.show()"
   ]
  },
  {
   "cell_type": "code",
   "execution_count": 43,
   "metadata": {},
   "outputs": [
    {
     "data": {
      "text/plain": [
       "0.40022163402510563"
      ]
     },
     "execution_count": 43,
     "metadata": {},
     "output_type": "execute_result"
    }
   ],
   "source": [
    "from sklearn.metrics import silhouette_score\n",
    "silhouette_score(RFM_log_scaled_df[['recency', 'frequency', 'monetary']], RFM_log_scaled_df['Cluster'])\n"
   ]
  },
  {
   "cell_type": "code",
   "execution_count": 53,
   "metadata": {},
   "outputs": [
    {
     "data": {
      "text/html": [
       "<div>\n",
       "<style scoped>\n",
       "    .dataframe tbody tr th:only-of-type {\n",
       "        vertical-align: middle;\n",
       "    }\n",
       "\n",
       "    .dataframe tbody tr th {\n",
       "        vertical-align: top;\n",
       "    }\n",
       "\n",
       "    .dataframe thead th {\n",
       "        text-align: right;\n",
       "    }\n",
       "</style>\n",
       "<table border=\"1\" class=\"dataframe\">\n",
       "  <thead>\n",
       "    <tr style=\"text-align: right;\">\n",
       "      <th></th>\n",
       "      <th>recency</th>\n",
       "      <th>frequency</th>\n",
       "      <th>monetary</th>\n",
       "      <th>Cluster</th>\n",
       "    </tr>\n",
       "  </thead>\n",
       "  <tbody>\n",
       "    <tr>\n",
       "      <th>0</th>\n",
       "      <td>0.911949</td>\n",
       "      <td>-0.10293</td>\n",
       "      <td>0.110615</td>\n",
       "      <td>2</td>\n",
       "    </tr>\n",
       "    <tr>\n",
       "      <th>1</th>\n",
       "      <td>-1.537370</td>\n",
       "      <td>-0.10293</td>\n",
       "      <td>-1.706436</td>\n",
       "      <td>0</td>\n",
       "    </tr>\n",
       "    <tr>\n",
       "      <th>2</th>\n",
       "      <td>-0.966655</td>\n",
       "      <td>-0.10293</td>\n",
       "      <td>-0.056993</td>\n",
       "      <td>0</td>\n",
       "    </tr>\n",
       "    <tr>\n",
       "      <th>3</th>\n",
       "      <td>-1.632489</td>\n",
       "      <td>-0.10293</td>\n",
       "      <td>1.049064</td>\n",
       "      <td>0</td>\n",
       "    </tr>\n",
       "    <tr>\n",
       "      <th>4</th>\n",
       "      <td>1.125967</td>\n",
       "      <td>-0.10293</td>\n",
       "      <td>0.477447</td>\n",
       "      <td>2</td>\n",
       "    </tr>\n",
       "  </tbody>\n",
       "</table>\n",
       "</div>"
      ],
      "text/plain": [
       "    recency  frequency  monetary  Cluster\n",
       "0  0.911949   -0.10293  0.110615        2\n",
       "1 -1.537370   -0.10293 -1.706436        0\n",
       "2 -0.966655   -0.10293 -0.056993        0\n",
       "3 -1.632489   -0.10293  1.049064        0\n",
       "4  1.125967   -0.10293  0.477447        2"
      ]
     },
     "execution_count": 53,
     "metadata": {},
     "output_type": "execute_result"
    }
   ],
   "source": [
    "RFM_log_scaled_df.head()"
   ]
  },
  {
   "cell_type": "code",
   "execution_count": 55,
   "metadata": {},
   "outputs": [],
   "source": [
    "RFM_log_scaled_df.to_csv('RFM_log_scaled_df.csv', index=False)"
   ]
  },
  {
   "cell_type": "code",
   "execution_count": null,
   "metadata": {},
   "outputs": [],
   "source": []
  }
 ],
 "metadata": {
  "kernelspec": {
   "display_name": "base",
   "language": "python",
   "name": "python3"
  },
  "language_info": {
   "codemirror_mode": {
    "name": "ipython",
    "version": 3
   },
   "file_extension": ".py",
   "mimetype": "text/x-python",
   "name": "python",
   "nbconvert_exporter": "python",
   "pygments_lexer": "ipython3",
   "version": "3.11.5"
  }
 },
 "nbformat": 4,
 "nbformat_minor": 2
}
